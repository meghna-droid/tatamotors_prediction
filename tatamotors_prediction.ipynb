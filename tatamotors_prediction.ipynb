{
  "nbformat": 4,
  "nbformat_minor": 0,
  "metadata": {
    "colab": {
      "provenance": [],
      "authorship_tag": "ABX9TyNKPEfoy8+8k1d9zdObDaiC",
      "include_colab_link": true
    },
    "kernelspec": {
      "name": "python3",
      "display_name": "Python 3"
    },
    "language_info": {
      "name": "python"
    }
  },
  "cells": [
    {
      "cell_type": "markdown",
      "metadata": {
        "id": "view-in-github",
        "colab_type": "text"
      },
      "source": [
        "<a href=\"https://colab.research.google.com/github/meghna-droid/tatamotors_prediction/blob/main/tatamotors_prediction.ipynb\" target=\"_parent\"><img src=\"https://colab.research.google.com/assets/colab-badge.svg\" alt=\"Open In Colab\"/></a>"
      ]
    },
    {
      "cell_type": "code",
      "execution_count": 57,
      "metadata": {
        "id": "Byj0LGR938FE"
      },
      "outputs": [],
      "source": [
        "from pandas_datareader import data as pdr\n",
        "import yfinance as yf\n",
        "\n",
        "\n",
        "yf.pdr_override()\n"
      ]
    },
    {
      "cell_type": "code",
      "source": [
        "import scipy"
      ],
      "metadata": {
        "id": "LXeREyfI4ZcA"
      },
      "execution_count": null,
      "outputs": []
    },
    {
      "cell_type": "code",
      "source": [
        "tata = pdr.get_data_yahoo(\"TATAMOTORS.NS\", start=\"2010-01-01\", end=\"2022-7-20\")"
      ],
      "metadata": {
        "colab": {
          "base_uri": "https://localhost:8080/"
        },
        "id": "8v6GWfTx4oS9",
        "outputId": "1dbe1458-548f-4231-ec00-625dd7d2444d"
      },
      "execution_count": null,
      "outputs": [
        {
          "output_type": "stream",
          "name": "stdout",
          "text": [
            "\r[*********************100%***********************]  1 of 1 completed\n"
          ]
        }
      ]
    },
    {
      "cell_type": "code",
      "source": [
        "tata.to_csv('TATAMOTORS.csv')"
      ],
      "metadata": {
        "id": "5ShPDk2X4tt-"
      },
      "execution_count": null,
      "outputs": []
    },
    {
      "cell_type": "code",
      "source": [
        "import pandas as pd"
      ],
      "metadata": {
        "id": "_7vnk2bL4xfy"
      },
      "execution_count": null,
      "outputs": []
    },
    {
      "cell_type": "code",
      "source": [
        "tata = pd.read_csv('TATAMOTORS.csv')"
      ],
      "metadata": {
        "id": "-FbGIO-I42wZ"
      },
      "execution_count": null,
      "outputs": []
    },
    {
      "cell_type": "code",
      "source": [
        "tata.head()"
      ],
      "metadata": {
        "colab": {
          "base_uri": "https://localhost:8080/",
          "height": 250
        },
        "id": "GmpXoFm_45-H",
        "outputId": "6866a721-813e-4fca-bd7e-ee1d4a06dbee"
      },
      "execution_count": null,
      "outputs": [
        {
          "output_type": "execute_result",
          "data": {
            "text/plain": [
              "         Date        Open        High         Low       Close   Adj Close  \\\n",
              "0  2010-01-04  156.303482  164.040497  156.184769  163.535919  153.140778   \n",
              "1  2010-01-05  162.259598  167.147186  153.246277  160.686478  150.472473   \n",
              "2  2010-01-06  162.200241  162.932388  159.311234  160.933823  150.704086   \n",
              "3  2010-01-07  161.171280  161.923218  154.344498  155.432831  145.552765   \n",
              "4  2010-01-08  156.323273  159.251862  155.343781  156.283707  146.349579   \n",
              "\n",
              "     Volume  \n",
              "0  27906448  \n",
              "1  23669317  \n",
              "2  14990820  \n",
              "3  22722030  \n",
              "4  16495776  "
            ],
            "text/html": [
              "\n",
              "  <div id=\"df-7a2cd7a2-742c-436d-840f-052934cc31df\">\n",
              "    <div class=\"colab-df-container\">\n",
              "      <div>\n",
              "<style scoped>\n",
              "    .dataframe tbody tr th:only-of-type {\n",
              "        vertical-align: middle;\n",
              "    }\n",
              "\n",
              "    .dataframe tbody tr th {\n",
              "        vertical-align: top;\n",
              "    }\n",
              "\n",
              "    .dataframe thead th {\n",
              "        text-align: right;\n",
              "    }\n",
              "</style>\n",
              "<table border=\"1\" class=\"dataframe\">\n",
              "  <thead>\n",
              "    <tr style=\"text-align: right;\">\n",
              "      <th></th>\n",
              "      <th>Date</th>\n",
              "      <th>Open</th>\n",
              "      <th>High</th>\n",
              "      <th>Low</th>\n",
              "      <th>Close</th>\n",
              "      <th>Adj Close</th>\n",
              "      <th>Volume</th>\n",
              "    </tr>\n",
              "  </thead>\n",
              "  <tbody>\n",
              "    <tr>\n",
              "      <th>0</th>\n",
              "      <td>2010-01-04</td>\n",
              "      <td>156.303482</td>\n",
              "      <td>164.040497</td>\n",
              "      <td>156.184769</td>\n",
              "      <td>163.535919</td>\n",
              "      <td>153.140778</td>\n",
              "      <td>27906448</td>\n",
              "    </tr>\n",
              "    <tr>\n",
              "      <th>1</th>\n",
              "      <td>2010-01-05</td>\n",
              "      <td>162.259598</td>\n",
              "      <td>167.147186</td>\n",
              "      <td>153.246277</td>\n",
              "      <td>160.686478</td>\n",
              "      <td>150.472473</td>\n",
              "      <td>23669317</td>\n",
              "    </tr>\n",
              "    <tr>\n",
              "      <th>2</th>\n",
              "      <td>2010-01-06</td>\n",
              "      <td>162.200241</td>\n",
              "      <td>162.932388</td>\n",
              "      <td>159.311234</td>\n",
              "      <td>160.933823</td>\n",
              "      <td>150.704086</td>\n",
              "      <td>14990820</td>\n",
              "    </tr>\n",
              "    <tr>\n",
              "      <th>3</th>\n",
              "      <td>2010-01-07</td>\n",
              "      <td>161.171280</td>\n",
              "      <td>161.923218</td>\n",
              "      <td>154.344498</td>\n",
              "      <td>155.432831</td>\n",
              "      <td>145.552765</td>\n",
              "      <td>22722030</td>\n",
              "    </tr>\n",
              "    <tr>\n",
              "      <th>4</th>\n",
              "      <td>2010-01-08</td>\n",
              "      <td>156.323273</td>\n",
              "      <td>159.251862</td>\n",
              "      <td>155.343781</td>\n",
              "      <td>156.283707</td>\n",
              "      <td>146.349579</td>\n",
              "      <td>16495776</td>\n",
              "    </tr>\n",
              "  </tbody>\n",
              "</table>\n",
              "</div>\n",
              "      <button class=\"colab-df-convert\" onclick=\"convertToInteractive('df-7a2cd7a2-742c-436d-840f-052934cc31df')\"\n",
              "              title=\"Convert this dataframe to an interactive table.\"\n",
              "              style=\"display:none;\">\n",
              "        \n",
              "  <svg xmlns=\"http://www.w3.org/2000/svg\" height=\"24px\"viewBox=\"0 0 24 24\"\n",
              "       width=\"24px\">\n",
              "    <path d=\"M0 0h24v24H0V0z\" fill=\"none\"/>\n",
              "    <path d=\"M18.56 5.44l.94 2.06.94-2.06 2.06-.94-2.06-.94-.94-2.06-.94 2.06-2.06.94zm-11 1L8.5 8.5l.94-2.06 2.06-.94-2.06-.94L8.5 2.5l-.94 2.06-2.06.94zm10 10l.94 2.06.94-2.06 2.06-.94-2.06-.94-.94-2.06-.94 2.06-2.06.94z\"/><path d=\"M17.41 7.96l-1.37-1.37c-.4-.4-.92-.59-1.43-.59-.52 0-1.04.2-1.43.59L10.3 9.45l-7.72 7.72c-.78.78-.78 2.05 0 2.83L4 21.41c.39.39.9.59 1.41.59.51 0 1.02-.2 1.41-.59l7.78-7.78 2.81-2.81c.8-.78.8-2.07 0-2.86zM5.41 20L4 18.59l7.72-7.72 1.47 1.35L5.41 20z\"/>\n",
              "  </svg>\n",
              "      </button>\n",
              "      \n",
              "  <style>\n",
              "    .colab-df-container {\n",
              "      display:flex;\n",
              "      flex-wrap:wrap;\n",
              "      gap: 12px;\n",
              "    }\n",
              "\n",
              "    .colab-df-convert {\n",
              "      background-color: #E8F0FE;\n",
              "      border: none;\n",
              "      border-radius: 50%;\n",
              "      cursor: pointer;\n",
              "      display: none;\n",
              "      fill: #1967D2;\n",
              "      height: 32px;\n",
              "      padding: 0 0 0 0;\n",
              "      width: 32px;\n",
              "    }\n",
              "\n",
              "    .colab-df-convert:hover {\n",
              "      background-color: #E2EBFA;\n",
              "      box-shadow: 0px 1px 2px rgba(60, 64, 67, 0.3), 0px 1px 3px 1px rgba(60, 64, 67, 0.15);\n",
              "      fill: #174EA6;\n",
              "    }\n",
              "\n",
              "    [theme=dark] .colab-df-convert {\n",
              "      background-color: #3B4455;\n",
              "      fill: #D2E3FC;\n",
              "    }\n",
              "\n",
              "    [theme=dark] .colab-df-convert:hover {\n",
              "      background-color: #434B5C;\n",
              "      box-shadow: 0px 1px 3px 1px rgba(0, 0, 0, 0.15);\n",
              "      filter: drop-shadow(0px 1px 2px rgba(0, 0, 0, 0.3));\n",
              "      fill: #FFFFFF;\n",
              "    }\n",
              "  </style>\n",
              "\n",
              "      <script>\n",
              "        const buttonEl =\n",
              "          document.querySelector('#df-7a2cd7a2-742c-436d-840f-052934cc31df button.colab-df-convert');\n",
              "        buttonEl.style.display =\n",
              "          google.colab.kernel.accessAllowed ? 'block' : 'none';\n",
              "\n",
              "        async function convertToInteractive(key) {\n",
              "          const element = document.querySelector('#df-7a2cd7a2-742c-436d-840f-052934cc31df');\n",
              "          const dataTable =\n",
              "            await google.colab.kernel.invokeFunction('convertToInteractive',\n",
              "                                                     [key], {});\n",
              "          if (!dataTable) return;\n",
              "\n",
              "          const docLinkHtml = 'Like what you see? Visit the ' +\n",
              "            '<a target=\"_blank\" href=https://colab.research.google.com/notebooks/data_table.ipynb>data table notebook</a>'\n",
              "            + ' to learn more about interactive tables.';\n",
              "          element.innerHTML = '';\n",
              "          dataTable['output_type'] = 'display_data';\n",
              "          await google.colab.output.renderOutput(dataTable, element);\n",
              "          const docLink = document.createElement('div');\n",
              "          docLink.innerHTML = docLinkHtml;\n",
              "          element.appendChild(docLink);\n",
              "        }\n",
              "      </script>\n",
              "    </div>\n",
              "  </div>\n",
              "  "
            ]
          },
          "metadata": {},
          "execution_count": 12
        }
      ]
    },
    {
      "cell_type": "code",
      "source": [
        "tata.tail()"
      ],
      "metadata": {
        "colab": {
          "base_uri": "https://localhost:8080/",
          "height": 337
        },
        "id": "MQRPmirk482p",
        "outputId": "fb8455ae-76e9-4126-a65f-63f46684ffe3"
      },
      "execution_count": null,
      "outputs": [
        {
          "output_type": "execute_result",
          "data": {
            "text/plain": [
              "            Date        Open        High         Low       Close   Adj Close  \\\n",
              "3092  2022-07-13  432.700012  435.850006  425.649994  427.100006  427.100006   \n",
              "3093  2022-07-14  428.000000  431.250000  423.299988  428.049988  428.049988   \n",
              "3094  2022-07-15  430.649994  441.750000  429.700012  440.200012  440.200012   \n",
              "3095  2022-07-18  443.950012  453.799988  443.200012  450.899994  450.899994   \n",
              "3096  2022-07-19  446.750000  451.850006  444.450012  449.049988  449.049988   \n",
              "\n",
              "        Volume  \n",
              "3092  10181698  \n",
              "3093  10744547  \n",
              "3094  15774084  \n",
              "3095  21185764  \n",
              "3096  11553440  "
            ],
            "text/html": [
              "\n",
              "  <div id=\"df-6443081f-ef8b-4988-9f52-3c66615c87a5\">\n",
              "    <div class=\"colab-df-container\">\n",
              "      <div>\n",
              "<style scoped>\n",
              "    .dataframe tbody tr th:only-of-type {\n",
              "        vertical-align: middle;\n",
              "    }\n",
              "\n",
              "    .dataframe tbody tr th {\n",
              "        vertical-align: top;\n",
              "    }\n",
              "\n",
              "    .dataframe thead th {\n",
              "        text-align: right;\n",
              "    }\n",
              "</style>\n",
              "<table border=\"1\" class=\"dataframe\">\n",
              "  <thead>\n",
              "    <tr style=\"text-align: right;\">\n",
              "      <th></th>\n",
              "      <th>Date</th>\n",
              "      <th>Open</th>\n",
              "      <th>High</th>\n",
              "      <th>Low</th>\n",
              "      <th>Close</th>\n",
              "      <th>Adj Close</th>\n",
              "      <th>Volume</th>\n",
              "    </tr>\n",
              "  </thead>\n",
              "  <tbody>\n",
              "    <tr>\n",
              "      <th>3092</th>\n",
              "      <td>2022-07-13</td>\n",
              "      <td>432.700012</td>\n",
              "      <td>435.850006</td>\n",
              "      <td>425.649994</td>\n",
              "      <td>427.100006</td>\n",
              "      <td>427.100006</td>\n",
              "      <td>10181698</td>\n",
              "    </tr>\n",
              "    <tr>\n",
              "      <th>3093</th>\n",
              "      <td>2022-07-14</td>\n",
              "      <td>428.000000</td>\n",
              "      <td>431.250000</td>\n",
              "      <td>423.299988</td>\n",
              "      <td>428.049988</td>\n",
              "      <td>428.049988</td>\n",
              "      <td>10744547</td>\n",
              "    </tr>\n",
              "    <tr>\n",
              "      <th>3094</th>\n",
              "      <td>2022-07-15</td>\n",
              "      <td>430.649994</td>\n",
              "      <td>441.750000</td>\n",
              "      <td>429.700012</td>\n",
              "      <td>440.200012</td>\n",
              "      <td>440.200012</td>\n",
              "      <td>15774084</td>\n",
              "    </tr>\n",
              "    <tr>\n",
              "      <th>3095</th>\n",
              "      <td>2022-07-18</td>\n",
              "      <td>443.950012</td>\n",
              "      <td>453.799988</td>\n",
              "      <td>443.200012</td>\n",
              "      <td>450.899994</td>\n",
              "      <td>450.899994</td>\n",
              "      <td>21185764</td>\n",
              "    </tr>\n",
              "    <tr>\n",
              "      <th>3096</th>\n",
              "      <td>2022-07-19</td>\n",
              "      <td>446.750000</td>\n",
              "      <td>451.850006</td>\n",
              "      <td>444.450012</td>\n",
              "      <td>449.049988</td>\n",
              "      <td>449.049988</td>\n",
              "      <td>11553440</td>\n",
              "    </tr>\n",
              "  </tbody>\n",
              "</table>\n",
              "</div>\n",
              "      <button class=\"colab-df-convert\" onclick=\"convertToInteractive('df-6443081f-ef8b-4988-9f52-3c66615c87a5')\"\n",
              "              title=\"Convert this dataframe to an interactive table.\"\n",
              "              style=\"display:none;\">\n",
              "        \n",
              "  <svg xmlns=\"http://www.w3.org/2000/svg\" height=\"24px\"viewBox=\"0 0 24 24\"\n",
              "       width=\"24px\">\n",
              "    <path d=\"M0 0h24v24H0V0z\" fill=\"none\"/>\n",
              "    <path d=\"M18.56 5.44l.94 2.06.94-2.06 2.06-.94-2.06-.94-.94-2.06-.94 2.06-2.06.94zm-11 1L8.5 8.5l.94-2.06 2.06-.94-2.06-.94L8.5 2.5l-.94 2.06-2.06.94zm10 10l.94 2.06.94-2.06 2.06-.94-2.06-.94-.94-2.06-.94 2.06-2.06.94z\"/><path d=\"M17.41 7.96l-1.37-1.37c-.4-.4-.92-.59-1.43-.59-.52 0-1.04.2-1.43.59L10.3 9.45l-7.72 7.72c-.78.78-.78 2.05 0 2.83L4 21.41c.39.39.9.59 1.41.59.51 0 1.02-.2 1.41-.59l7.78-7.78 2.81-2.81c.8-.78.8-2.07 0-2.86zM5.41 20L4 18.59l7.72-7.72 1.47 1.35L5.41 20z\"/>\n",
              "  </svg>\n",
              "      </button>\n",
              "      \n",
              "  <style>\n",
              "    .colab-df-container {\n",
              "      display:flex;\n",
              "      flex-wrap:wrap;\n",
              "      gap: 12px;\n",
              "    }\n",
              "\n",
              "    .colab-df-convert {\n",
              "      background-color: #E8F0FE;\n",
              "      border: none;\n",
              "      border-radius: 50%;\n",
              "      cursor: pointer;\n",
              "      display: none;\n",
              "      fill: #1967D2;\n",
              "      height: 32px;\n",
              "      padding: 0 0 0 0;\n",
              "      width: 32px;\n",
              "    }\n",
              "\n",
              "    .colab-df-convert:hover {\n",
              "      background-color: #E2EBFA;\n",
              "      box-shadow: 0px 1px 2px rgba(60, 64, 67, 0.3), 0px 1px 3px 1px rgba(60, 64, 67, 0.15);\n",
              "      fill: #174EA6;\n",
              "    }\n",
              "\n",
              "    [theme=dark] .colab-df-convert {\n",
              "      background-color: #3B4455;\n",
              "      fill: #D2E3FC;\n",
              "    }\n",
              "\n",
              "    [theme=dark] .colab-df-convert:hover {\n",
              "      background-color: #434B5C;\n",
              "      box-shadow: 0px 1px 3px 1px rgba(0, 0, 0, 0.15);\n",
              "      filter: drop-shadow(0px 1px 2px rgba(0, 0, 0, 0.3));\n",
              "      fill: #FFFFFF;\n",
              "    }\n",
              "  </style>\n",
              "\n",
              "      <script>\n",
              "        const buttonEl =\n",
              "          document.querySelector('#df-6443081f-ef8b-4988-9f52-3c66615c87a5 button.colab-df-convert');\n",
              "        buttonEl.style.display =\n",
              "          google.colab.kernel.accessAllowed ? 'block' : 'none';\n",
              "\n",
              "        async function convertToInteractive(key) {\n",
              "          const element = document.querySelector('#df-6443081f-ef8b-4988-9f52-3c66615c87a5');\n",
              "          const dataTable =\n",
              "            await google.colab.kernel.invokeFunction('convertToInteractive',\n",
              "                                                     [key], {});\n",
              "          if (!dataTable) return;\n",
              "\n",
              "          const docLinkHtml = 'Like what you see? Visit the ' +\n",
              "            '<a target=\"_blank\" href=https://colab.research.google.com/notebooks/data_table.ipynb>data table notebook</a>'\n",
              "            + ' to learn more about interactive tables.';\n",
              "          element.innerHTML = '';\n",
              "          dataTable['output_type'] = 'display_data';\n",
              "          await google.colab.output.renderOutput(dataTable, element);\n",
              "          const docLink = document.createElement('div');\n",
              "          docLink.innerHTML = docLinkHtml;\n",
              "          element.appendChild(docLink);\n",
              "        }\n",
              "      </script>\n",
              "    </div>\n",
              "  </div>\n",
              "  "
            ]
          },
          "metadata": {},
          "execution_count": 13
        }
      ]
    },
    {
      "cell_type": "code",
      "source": [
        "tata1 = tata.reset_index()['Close']"
      ],
      "metadata": {
        "id": "BvYbEQHG5JEt"
      },
      "execution_count": null,
      "outputs": []
    },
    {
      "cell_type": "code",
      "source": [
        "tata1.shape"
      ],
      "metadata": {
        "colab": {
          "base_uri": "https://localhost:8080/"
        },
        "id": "e7ZjmH5Z5K83",
        "outputId": "c1c6f435-ab2a-4f28-ffab-c8b040eea80f"
      },
      "execution_count": null,
      "outputs": [
        {
          "output_type": "execute_result",
          "data": {
            "text/plain": [
              "(3097,)"
            ]
          },
          "metadata": {},
          "execution_count": 15
        }
      ]
    },
    {
      "cell_type": "code",
      "source": [
        "import matplotlib.pyplot as plt\n",
        "plt.plot(tata1)"
      ],
      "metadata": {
        "colab": {
          "base_uri": "https://localhost:8080/",
          "height": 282
        },
        "id": "cURGkn9g5OyM",
        "outputId": "3c937d50-71f1-463e-86b4-be747454f938"
      },
      "execution_count": null,
      "outputs": [
        {
          "output_type": "execute_result",
          "data": {
            "text/plain": [
              "[<matplotlib.lines.Line2D at 0x7f74d52ca710>]"
            ]
          },
          "metadata": {},
          "execution_count": 16
        },
        {
          "output_type": "display_data",
          "data": {
            "text/plain": [
              "<Figure size 432x288 with 1 Axes>"
            ],
            "image/png": "[encoded data removed]"
          },
          "metadata": {
            "needs_background": "light"
          }
        }
      ]
    },
    {
      "cell_type": "code",
      "source": [
        "import numpy as np"
      ],
      "metadata": {
        "id": "nSaXwU6l5SxY"
      },
      "execution_count": null,
      "outputs": []
    },
    {
      "cell_type": "code",
      "source": [
        "from sklearn.preprocessing import MinMaxScaler\n",
        "scaler =MinMaxScaler(feature_range=(0,1))\n",
        "tata1=scaler.fit_transform(np.array(tata1).reshape(-1,1))"
      ],
      "metadata": {
        "id": "7A3RR0Kj5XaB"
      },
      "execution_count": null,
      "outputs": []
    },
    {
      "cell_type": "code",
      "source": [
        "tata1"
      ],
      "metadata": {
        "colab": {
          "base_uri": "https://localhost:8080/"
        },
        "id": "Rbmpo2Wq5bgj",
        "outputId": "2b3da20a-db2c-44c9-e6e8-79409993f67c"
      },
      "execution_count": null,
      "outputs": [
        {
          "output_type": "execute_result",
          "data": {
            "text/plain": [
              "array([[0.18436482],\n",
              "       [0.17901711],\n",
              "       [0.17948132],\n",
              "       ...,\n",
              "       [0.70359574],\n",
              "       [0.72367699],\n",
              "       [0.72020498]])"
            ]
          },
          "metadata": {},
          "execution_count": 19
        }
      ]
    },
    {
      "cell_type": "code",
      "source": [
        "##splitting data set into train and test split\n",
        "training_size =int(len(tata1)*0.70)\n",
        "test_size = len(tata1)-training_size\n",
        "train_data,test_data=tata1[0:training_size,:],tata1[training_size:len(tata1),:1]\n"
      ],
      "metadata": {
        "id": "6qYeNdiM5jB3"
      },
      "execution_count": null,
      "outputs": []
    },
    {
      "cell_type": "code",
      "source": [
        "training_size,test_size"
      ],
      "metadata": {
        "colab": {
          "base_uri": "https://localhost:8080/"
        },
        "id": "55QHKSt-7arK",
        "outputId": "ae067aab-ae45-4b93-c565-cbb0d410974c"
      },
      "execution_count": null,
      "outputs": [
        {
          "output_type": "execute_result",
          "data": {
            "text/plain": [
              "(2167, 930)"
            ]
          },
          "metadata": {},
          "execution_count": 21
        }
      ]
    },
    {
      "cell_type": "code",
      "source": [
        "import numpy\n",
        "#convert an array of values into a dataset matrix\n",
        "def create_dataset(dataset,time_step=1):\n",
        "    dataX,dataY = [], []\n",
        "    for i in range(len(dataset)-time_step-1):\n",
        "        a= dataset[i:(i+time_step),0] ###{=0,0,1,2,3\n",
        "        dataX.append(a)\n",
        "        dataY.append(dataset[i+time_step,0])\n",
        "        \n",
        "    return numpy.array(dataX),numpy.array(dataY)"
      ],
      "metadata": {
        "id": "nl5CCdIG7inK"
      },
      "execution_count": null,
      "outputs": []
    },
    {
      "cell_type": "code",
      "source": [
        "# reshape into X=t,t+1,t+2,t+3 and Y=t+4\n",
        "time_step = 100\n",
        "x_train,y_train = create_dataset(test_data,time_step)\n",
        "x_test,y_test =create_dataset(test_data,time_step)"
      ],
      "metadata": {
        "id": "-aaqNX847tFs"
      },
      "execution_count": null,
      "outputs": []
    },
    {
      "cell_type": "code",
      "source": [
        "print(x_train)"
      ],
      "metadata": {
        "colab": {
          "base_uri": "https://localhost:8080/"
        },
        "id": "JeXPYUBm74Gm",
        "outputId": "fee021af-317d-4b74-c5ed-0ad5a555f281"
      },
      "execution_count": null,
      "outputs": [
        {
          "output_type": "stream",
          "name": "stdout",
          "text": [
            "[[0.22342777 0.22624291 0.21517003 ... 0.23271771 0.21751598 0.21873588]\n",
            " [0.22624291 0.21517003 0.20531706 ... 0.21751598 0.21873588 0.22427231]\n",
            " [0.21517003 0.20531706 0.19790388 ... 0.21873588 0.22427231 0.21845435]\n",
            " ...\n",
            " [0.81573189 0.80296992 0.80540973 ... 0.69768391 0.685485   0.67901022]\n",
            " [0.80296992 0.80540973 0.77500627 ... 0.685485   0.67901022 0.68079311]\n",
            " [0.80540973 0.77500627 0.77266032 ... 0.67901022 0.68079311 0.70359574]]\n"
          ]
        }
      ]
    },
    {
      "cell_type": "code",
      "source": [
        "print(x_test.shape),print(y_test.shape)"
      ],
      "metadata": {
        "colab": {
          "base_uri": "https://localhost:8080/"
        },
        "id": "HBXF5x5Z794j",
        "outputId": "f3632a79-dae5-454c-8c28-1ce8a82ca9b3"
      },
      "execution_count": null,
      "outputs": [
        {
          "output_type": "stream",
          "name": "stdout",
          "text": [
            "(829, 100)\n",
            "(829,)\n"
          ]
        },
        {
          "output_type": "execute_result",
          "data": {
            "text/plain": [
              "(None, None)"
            ]
          },
          "metadata": {},
          "execution_count": 25
        }
      ]
    },
    {
      "cell_type": "code",
      "source": [
        "#reshape input to be[samples.time steps,features] which is required for LSTM model\n",
        "x_train =x_train.reshape(x_train.shape[0],x_train.shape[1] , 1)\n",
        "X_test =x_test.reshape(x_test.shape[0],x_test.shape[1] , 1)"
      ],
      "metadata": {
        "id": "ZLmI2vVX8DQe"
      },
      "execution_count": null,
      "outputs": []
    },
    {
      "cell_type": "code",
      "source": [
        "### create a LSTM model\n",
        "from tensorflow.keras.models import Sequential\n",
        "from tensorflow.keras.layers import Dense\n",
        "from tensorflow.keras.layers import LSTM"
      ],
      "metadata": {
        "id": "U3iM-kLj8PLP"
      },
      "execution_count": null,
      "outputs": []
    },
    {
      "cell_type": "code",
      "source": [
        "model = Sequential()\n",
        "model.add(LSTM(50,return_sequences=True,input_shape=(100,1)))\n",
        "model.add(LSTM(50,return_sequences=True))\n",
        "model.add(LSTM(50))\n",
        "model.add(Dense(1))\n",
        "model.compile(loss='mean_squared_error',optimizer='adam')"
      ],
      "metadata": {
        "id": "8Le50m4H8dI3"
      },
      "execution_count": null,
      "outputs": []
    },
    {
      "cell_type": "code",
      "source": [
        "model.summary()"
      ],
      "metadata": {
        "colab": {
          "base_uri": "https://localhost:8080/"
        },
        "id": "TcVLdB018iRh",
        "outputId": "6544abae-2aea-4521-b7d2-3ad8255b2827"
      },
      "execution_count": null,
      "outputs": [
        {
          "output_type": "stream",
          "name": "stdout",
          "text": [
            "Model: \"sequential\"\n",
            "_________________________________________________________________\n",
            " Layer (type)                Output Shape              Param #   \n",
            "=================================================================\n",
            " lstm (LSTM)                 (None, 100, 50)           10400     \n",
            "                                                                 \n",
            " lstm_1 (LSTM)               (None, 100, 50)           20200     \n",
            "                                                                 \n",
            " lstm_2 (LSTM)               (None, 50)                20200     \n",
            "                                                                 \n",
            " dense (Dense)               (None, 1)                 51        \n",
            "                                                                 \n",
            "=================================================================\n",
            "Total params: 50,851\n",
            "Trainable params: 50,851\n",
            "Non-trainable params: 0\n",
            "_________________________________________________________________\n"
          ]
        }
      ]
    },
    {
      "cell_type": "code",
      "source": [
        "model.fit(x_train,y_train,validation_data=(x_test,y_test),epochs=100,batch_size=64,verbose=1)"
      ],
      "metadata": {
        "colab": {
          "base_uri": "https://localhost:8080/"
        },
        "id": "04uPivTM8pnv",
        "outputId": "6ebb02f9-62dc-4434-99bb-40d931793105"
      },
      "execution_count": null,
      "outputs": [
        {
          "output_type": "stream",
          "name": "stdout",
          "text": [
            "Epoch 1/100\n",
            "13/13 [==============================] - 14s 363ms/step - loss: 0.0556 - val_loss: 0.0106\n",
            "Epoch 2/100\n",
            "13/13 [==============================] - 3s 243ms/step - loss: 0.0104 - val_loss: 0.0067\n",
            "Epoch 3/100\n",
            "13/13 [==============================] - 3s 246ms/step - loss: 0.0040 - val_loss: 0.0027\n",
            "Epoch 4/100\n",
            "13/13 [==============================] - 4s 281ms/step - loss: 0.0031 - val_loss: 0.0028\n",
            "Epoch 5/100\n",
            "13/13 [==============================] - 3s 240ms/step - loss: 0.0027 - val_loss: 0.0027\n",
            "Epoch 6/100\n",
            "13/13 [==============================] - 3s 245ms/step - loss: 0.0026 - val_loss: 0.0024\n",
            "Epoch 7/100\n",
            "13/13 [==============================] - 3s 238ms/step - loss: 0.0024 - val_loss: 0.0023\n",
            "Epoch 8/100\n",
            "13/13 [==============================] - 3s 242ms/step - loss: 0.0023 - val_loss: 0.0022\n",
            "Epoch 9/100\n",
            "13/13 [==============================] - 3s 243ms/step - loss: 0.0022 - val_loss: 0.0022\n",
            "Epoch 10/100\n",
            "13/13 [==============================] - 3s 245ms/step - loss: 0.0021 - val_loss: 0.0021\n",
            "Epoch 11/100\n",
            "13/13 [==============================] - 3s 242ms/step - loss: 0.0020 - val_loss: 0.0019\n",
            "Epoch 12/100\n",
            "13/13 [==============================] - 3s 247ms/step - loss: 0.0019 - val_loss: 0.0018\n",
            "Epoch 13/100\n",
            "13/13 [==============================] - 3s 245ms/step - loss: 0.0018 - val_loss: 0.0018\n",
            "Epoch 14/100\n",
            "13/13 [==============================] - 3s 242ms/step - loss: 0.0017 - val_loss: 0.0017\n",
            "Epoch 15/100\n",
            "13/13 [==============================] - 3s 245ms/step - loss: 0.0017 - val_loss: 0.0016\n",
            "Epoch 16/100\n",
            "13/13 [==============================] - 3s 245ms/step - loss: 0.0017 - val_loss: 0.0017\n",
            "Epoch 17/100\n",
            "13/13 [==============================] - 3s 245ms/step - loss: 0.0016 - val_loss: 0.0015\n",
            "Epoch 18/100\n",
            "13/13 [==============================] - 3s 248ms/step - loss: 0.0015 - val_loss: 0.0017\n",
            "Epoch 19/100\n",
            "13/13 [==============================] - 3s 247ms/step - loss: 0.0015 - val_loss: 0.0014\n",
            "Epoch 20/100\n",
            "13/13 [==============================] - 3s 245ms/step - loss: 0.0014 - val_loss: 0.0014\n",
            "Epoch 21/100\n",
            "13/13 [==============================] - 3s 243ms/step - loss: 0.0014 - val_loss: 0.0013\n",
            "Epoch 22/100\n",
            "13/13 [==============================] - 3s 249ms/step - loss: 0.0014 - val_loss: 0.0014\n",
            "Epoch 23/100\n",
            "13/13 [==============================] - 3s 250ms/step - loss: 0.0014 - val_loss: 0.0013\n",
            "Epoch 24/100\n",
            "13/13 [==============================] - 3s 249ms/step - loss: 0.0013 - val_loss: 0.0013\n",
            "Epoch 25/100\n",
            "13/13 [==============================] - 3s 248ms/step - loss: 0.0013 - val_loss: 0.0014\n",
            "Epoch 26/100\n",
            "13/13 [==============================] - 3s 242ms/step - loss: 0.0013 - val_loss: 0.0012\n",
            "Epoch 27/100\n",
            "13/13 [==============================] - 3s 246ms/step - loss: 0.0012 - val_loss: 0.0013\n",
            "Epoch 28/100\n",
            "13/13 [==============================] - 3s 248ms/step - loss: 0.0012 - val_loss: 0.0011\n",
            "Epoch 29/100\n",
            "13/13 [==============================] - 4s 327ms/step - loss: 0.0011 - val_loss: 0.0011\n",
            "Epoch 30/100\n",
            "13/13 [==============================] - 4s 287ms/step - loss: 0.0012 - val_loss: 0.0011\n",
            "Epoch 31/100\n",
            "13/13 [==============================] - 3s 248ms/step - loss: 0.0011 - val_loss: 0.0012\n",
            "Epoch 32/100\n",
            "13/13 [==============================] - 3s 245ms/step - loss: 0.0011 - val_loss: 0.0011\n",
            "Epoch 33/100\n",
            "13/13 [==============================] - 4s 333ms/step - loss: 0.0011 - val_loss: 0.0010\n",
            "Epoch 34/100\n",
            "13/13 [==============================] - 3s 249ms/step - loss: 0.0010 - val_loss: 0.0011\n",
            "Epoch 35/100\n",
            "13/13 [==============================] - 3s 248ms/step - loss: 0.0010 - val_loss: 9.8216e-04\n",
            "Epoch 36/100\n",
            "13/13 [==============================] - 3s 250ms/step - loss: 0.0011 - val_loss: 0.0010\n",
            "Epoch 37/100\n",
            "13/13 [==============================] - 3s 247ms/step - loss: 0.0010 - val_loss: 0.0010\n",
            "Epoch 38/100\n",
            "13/13 [==============================] - 3s 255ms/step - loss: 0.0012 - val_loss: 0.0010\n",
            "Epoch 39/100\n",
            "13/13 [==============================] - 3s 251ms/step - loss: 0.0012 - val_loss: 0.0014\n",
            "Epoch 40/100\n",
            "13/13 [==============================] - 3s 252ms/step - loss: 0.0011 - val_loss: 9.1301e-04\n",
            "Epoch 41/100\n",
            "13/13 [==============================] - 3s 243ms/step - loss: 9.3639e-04 - val_loss: 8.9549e-04\n",
            "Epoch 42/100\n",
            "13/13 [==============================] - 3s 243ms/step - loss: 9.1219e-04 - val_loss: 9.1986e-04\n",
            "Epoch 43/100\n",
            "13/13 [==============================] - 3s 247ms/step - loss: 9.0081e-04 - val_loss: 8.6497e-04\n",
            "Epoch 44/100\n",
            "13/13 [==============================] - 3s 243ms/step - loss: 9.2453e-04 - val_loss: 0.0010\n",
            "Epoch 45/100\n",
            "13/13 [==============================] - 3s 248ms/step - loss: 0.0010 - val_loss: 9.3741e-04\n",
            "Epoch 46/100\n",
            "13/13 [==============================] - 3s 245ms/step - loss: 8.9753e-04 - val_loss: 0.0010\n",
            "Epoch 47/100\n",
            "13/13 [==============================] - 3s 246ms/step - loss: 8.9910e-04 - val_loss: 9.7727e-04\n",
            "Epoch 48/100\n",
            "13/13 [==============================] - 3s 244ms/step - loss: 9.2626e-04 - val_loss: 8.0312e-04\n",
            "Epoch 49/100\n",
            "13/13 [==============================] - 3s 245ms/step - loss: 9.3627e-04 - val_loss: 9.3069e-04\n",
            "Epoch 50/100\n",
            "13/13 [==============================] - 3s 251ms/step - loss: 8.8719e-04 - val_loss: 7.8382e-04\n",
            "Epoch 51/100\n",
            "13/13 [==============================] - 3s 246ms/step - loss: 8.4422e-04 - val_loss: 7.6021e-04\n",
            "Epoch 52/100\n",
            "13/13 [==============================] - 3s 245ms/step - loss: 8.2053e-04 - val_loss: 0.0011\n",
            "Epoch 53/100\n",
            "13/13 [==============================] - 3s 248ms/step - loss: 8.3971e-04 - val_loss: 7.3746e-04\n",
            "Epoch 54/100\n",
            "13/13 [==============================] - 3s 242ms/step - loss: 7.7552e-04 - val_loss: 7.2805e-04\n",
            "Epoch 55/100\n",
            "13/13 [==============================] - 3s 245ms/step - loss: 7.6330e-04 - val_loss: 7.7134e-04\n",
            "Epoch 56/100\n",
            "13/13 [==============================] - 3s 248ms/step - loss: 7.4488e-04 - val_loss: 7.1188e-04\n",
            "Epoch 57/100\n",
            "13/13 [==============================] - 3s 247ms/step - loss: 8.0565e-04 - val_loss: 7.8544e-04\n",
            "Epoch 58/100\n",
            "13/13 [==============================] - 3s 244ms/step - loss: 7.1804e-04 - val_loss: 6.8032e-04\n",
            "Epoch 59/100\n",
            "13/13 [==============================] - 3s 242ms/step - loss: 7.7492e-04 - val_loss: 6.8751e-04\n",
            "Epoch 60/100\n",
            "13/13 [==============================] - 3s 244ms/step - loss: 7.5399e-04 - val_loss: 8.0363e-04\n",
            "Epoch 61/100\n",
            "13/13 [==============================] - 3s 242ms/step - loss: 8.0592e-04 - val_loss: 6.8691e-04\n",
            "Epoch 62/100\n",
            "13/13 [==============================] - 3s 247ms/step - loss: 6.6859e-04 - val_loss: 6.7658e-04\n",
            "Epoch 63/100\n",
            "13/13 [==============================] - 3s 241ms/step - loss: 6.7670e-04 - val_loss: 6.4618e-04\n",
            "Epoch 64/100\n",
            "13/13 [==============================] - 3s 241ms/step - loss: 6.6416e-04 - val_loss: 7.5741e-04\n",
            "Epoch 65/100\n",
            "13/13 [==============================] - 3s 245ms/step - loss: 6.6995e-04 - val_loss: 7.0812e-04\n",
            "Epoch 66/100\n",
            "13/13 [==============================] - 3s 249ms/step - loss: 6.9764e-04 - val_loss: 7.7891e-04\n",
            "Epoch 67/100\n",
            "13/13 [==============================] - 3s 249ms/step - loss: 6.7174e-04 - val_loss: 6.0230e-04\n",
            "Epoch 68/100\n",
            "13/13 [==============================] - 3s 246ms/step - loss: 6.2067e-04 - val_loss: 7.9460e-04\n",
            "Epoch 69/100\n",
            "13/13 [==============================] - 3s 251ms/step - loss: 6.3770e-04 - val_loss: 6.1314e-04\n",
            "Epoch 70/100\n",
            "13/13 [==============================] - 3s 245ms/step - loss: 5.8755e-04 - val_loss: 7.2866e-04\n",
            "Epoch 71/100\n",
            "13/13 [==============================] - 3s 244ms/step - loss: 6.1614e-04 - val_loss: 5.7696e-04\n",
            "Epoch 72/100\n",
            "13/13 [==============================] - 3s 242ms/step - loss: 5.7420e-04 - val_loss: 5.9519e-04\n",
            "Epoch 73/100\n",
            "13/13 [==============================] - 3s 244ms/step - loss: 6.3476e-04 - val_loss: 5.5905e-04\n",
            "Epoch 74/100\n",
            "13/13 [==============================] - 3s 244ms/step - loss: 6.4547e-04 - val_loss: 5.5246e-04\n",
            "Epoch 75/100\n",
            "13/13 [==============================] - 3s 243ms/step - loss: 6.6193e-04 - val_loss: 5.5975e-04\n",
            "Epoch 76/100\n",
            "13/13 [==============================] - 3s 242ms/step - loss: 6.1079e-04 - val_loss: 6.3202e-04\n",
            "Epoch 77/100\n",
            "13/13 [==============================] - 3s 243ms/step - loss: 6.0929e-04 - val_loss: 5.6360e-04\n",
            "Epoch 78/100\n",
            "13/13 [==============================] - 3s 246ms/step - loss: 6.5298e-04 - val_loss: 5.3743e-04\n",
            "Epoch 79/100\n",
            "13/13 [==============================] - 3s 252ms/step - loss: 5.4698e-04 - val_loss: 5.3886e-04\n",
            "Epoch 80/100\n",
            "13/13 [==============================] - 3s 247ms/step - loss: 5.5098e-04 - val_loss: 5.3432e-04\n",
            "Epoch 81/100\n",
            "13/13 [==============================] - 3s 253ms/step - loss: 5.8351e-04 - val_loss: 6.0778e-04\n",
            "Epoch 82/100\n",
            "13/13 [==============================] - 3s 244ms/step - loss: 5.6028e-04 - val_loss: 5.2457e-04\n",
            "Epoch 83/100\n",
            "13/13 [==============================] - 3s 245ms/step - loss: 5.3772e-04 - val_loss: 5.1097e-04\n",
            "Epoch 84/100\n",
            "13/13 [==============================] - 3s 252ms/step - loss: 6.9048e-04 - val_loss: 7.0804e-04\n",
            "Epoch 85/100\n",
            "13/13 [==============================] - 3s 255ms/step - loss: 6.0788e-04 - val_loss: 6.0813e-04\n",
            "Epoch 86/100\n",
            "13/13 [==============================] - 3s 249ms/step - loss: 6.7135e-04 - val_loss: 6.5743e-04\n",
            "Epoch 87/100\n",
            "13/13 [==============================] - 3s 253ms/step - loss: 5.9626e-04 - val_loss: 7.3033e-04\n",
            "Epoch 88/100\n",
            "13/13 [==============================] - 3s 262ms/step - loss: 6.7171e-04 - val_loss: 8.1866e-04\n",
            "Epoch 89/100\n",
            "13/13 [==============================] - 3s 249ms/step - loss: 6.1154e-04 - val_loss: 4.9435e-04\n",
            "Epoch 90/100\n",
            "13/13 [==============================] - 3s 254ms/step - loss: 5.3569e-04 - val_loss: 4.9800e-04\n",
            "Epoch 91/100\n",
            "13/13 [==============================] - 3s 257ms/step - loss: 5.1709e-04 - val_loss: 4.8655e-04\n",
            "Epoch 92/100\n",
            "13/13 [==============================] - 3s 252ms/step - loss: 5.0684e-04 - val_loss: 4.8016e-04\n",
            "Epoch 93/100\n",
            "13/13 [==============================] - 3s 264ms/step - loss: 5.1278e-04 - val_loss: 5.4185e-04\n",
            "Epoch 94/100\n",
            "13/13 [==============================] - 3s 256ms/step - loss: 5.1772e-04 - val_loss: 5.6600e-04\n",
            "Epoch 95/100\n",
            "13/13 [==============================] - 3s 259ms/step - loss: 5.5007e-04 - val_loss: 5.0106e-04\n",
            "Epoch 96/100\n",
            "13/13 [==============================] - 3s 252ms/step - loss: 5.3385e-04 - val_loss: 6.7415e-04\n",
            "Epoch 97/100\n",
            "13/13 [==============================] - 3s 254ms/step - loss: 5.4440e-04 - val_loss: 4.7695e-04\n",
            "Epoch 98/100\n",
            "13/13 [==============================] - 3s 245ms/step - loss: 4.8274e-04 - val_loss: 4.9608e-04\n",
            "Epoch 99/100\n",
            "13/13 [==============================] - 3s 244ms/step - loss: 5.5272e-04 - val_loss: 8.0951e-04\n",
            "Epoch 100/100\n",
            "13/13 [==============================] - 3s 245ms/step - loss: 5.9055e-04 - val_loss: 5.6694e-04\n"
          ]
        },
        {
          "output_type": "execute_result",
          "data": {
            "text/plain": [
              "<keras.callbacks.History at 0x7f746b067650>"
            ]
          },
          "metadata": {},
          "execution_count": 31
        }
      ]
    },
    {
      "cell_type": "code",
      "source": [
        "import tensorflow as tf"
      ],
      "metadata": {
        "id": "TsDCOAZx-I1o"
      },
      "execution_count": null,
      "outputs": []
    },
    {
      "cell_type": "code",
      "source": [
        "### lets do the prediction and check the metrics\n",
        "train_predict=model.predict(x_train)\n",
        "test_predict=model.predict(X_test)"
      ],
      "metadata": {
        "colab": {
          "base_uri": "https://localhost:8080/"
        },
        "id": "Cw6MPkGx-OeP",
        "outputId": "6abdc43c-1c8f-4650-ddd3-10d31b3f1988"
      },
      "execution_count": null,
      "outputs": [
        {
          "output_type": "stream",
          "name": "stdout",
          "text": [
            "26/26 [==============================] - 1s 38ms/step\n",
            "26/26 [==============================] - 1s 38ms/step\n"
          ]
        }
      ]
    },
    {
      "cell_type": "code",
      "source": [
        "## Transform to original form\n",
        "train_predict=scaler.inverse_transform(train_predict)\n",
        "test_predict=scaler.inverse_transform(test_predict)"
      ],
      "metadata": {
        "id": "YUq1YOrd-OpI"
      },
      "execution_count": null,
      "outputs": []
    },
    {
      "cell_type": "code",
      "source": [
        "## calculate the RMSE performance metrics\n",
        "import math\n",
        "from sklearn.metrics import mean_squared_error\n",
        "math.sqrt(mean_squared_error(y_train,train_predict))"
      ],
      "metadata": {
        "colab": {
          "base_uri": "https://localhost:8080/"
        },
        "id": "T93GXrEq-pxx",
        "outputId": "496daab5-66e3-4caf-e0a1-e3d078b47d7f"
      },
      "execution_count": null,
      "outputs": [
        {
          "output_type": "execute_result",
          "data": {
            "text/plain": [
              "291.99854155284885"
            ]
          },
          "metadata": {},
          "execution_count": 36
        }
      ]
    },
    {
      "cell_type": "code",
      "source": [
        "math.sqrt(mean_squared_error(y_test,test_predict))"
      ],
      "metadata": {
        "colab": {
          "base_uri": "https://localhost:8080/"
        },
        "id": "lNAsCWmE-ubH",
        "outputId": "bccce193-d348-40ff-80c1-755d14cdae4c"
      },
      "execution_count": null,
      "outputs": [
        {
          "output_type": "execute_result",
          "data": {
            "text/plain": [
              "291.99854155284885"
            ]
          },
          "metadata": {},
          "execution_count": 37
        }
      ]
    },
    {
      "cell_type": "code",
      "source": [
        "### Plotting \n",
        "# shift train predictions for plotting\n",
        "look_back=100\n",
        "trainPredictPlot = numpy.empty_like(tata1)\n",
        "trainPredictPlot[:, :] = np.nan\n",
        "trainPredictPlot[look_back:len(train_predict)+look_back, :] = train_predict\n",
        "# shift test predictions for plotting\n",
        "testPredictPlot = numpy.empty_like(tata1)\n",
        "testPredictPlot[:, :] = numpy.nan\n",
        "testPredictPlot[len(train_predict)+(look_back*2)+1:len(tata1)-1, :] = test_predict\n",
        "# plot baseline and predictions\n",
        "plt.plot(scaler.inverse_transform(tata1))\n",
        "plt.plot(trainPredictPlot)\n",
        "plt.plot(testPredictPlot)\n",
        "plt.show()"
      ],
      "metadata": {
        "colab": {
          "base_uri": "https://localhost:8080/",
          "height": 269
        },
        "id": "b9DpeLd6-0HK",
        "outputId": "6e38b046-8209-4057-c620-0395e93ee173"
      },
      "execution_count": null,
      "outputs": [
        {
          "output_type": "error",
          "ename": "ValueError",
          "evalue": "ignored",
          "traceback": [
            "\u001b[0;31m---------------------------------------------------------------------------\u001b[0m",
            "\u001b[0;31mValueError\u001b[0m                                Traceback (most recent call last)",
            "\u001b[0;32m<ipython-input-38-eda2b41f41f8>\u001b[0m in \u001b[0;36m<module>\u001b[0;34m\u001b[0m\n\u001b[1;32m      8\u001b[0m \u001b[0mtestPredictPlot\u001b[0m \u001b[0;34m=\u001b[0m \u001b[0mnumpy\u001b[0m\u001b[0;34m.\u001b[0m\u001b[0mempty_like\u001b[0m\u001b[0;34m(\u001b[0m\u001b[0mtata1\u001b[0m\u001b[0;34m)\u001b[0m\u001b[0;34m\u001b[0m\u001b[0;34m\u001b[0m\u001b[0m\n\u001b[1;32m      9\u001b[0m \u001b[0mtestPredictPlot\u001b[0m\u001b[0;34m[\u001b[0m\u001b[0;34m:\u001b[0m\u001b[0;34m,\u001b[0m \u001b[0;34m:\u001b[0m\u001b[0;34m]\u001b[0m \u001b[0;34m=\u001b[0m \u001b[0mnumpy\u001b[0m\u001b[0;34m.\u001b[0m\u001b[0mnan\u001b[0m\u001b[0;34m\u001b[0m\u001b[0;34m\u001b[0m\u001b[0m\n\u001b[0;32m---> 10\u001b[0;31m \u001b[0mtestPredictPlot\u001b[0m\u001b[0;34m[\u001b[0m\u001b[0mlen\u001b[0m\u001b[0;34m(\u001b[0m\u001b[0mtrain_predict\u001b[0m\u001b[0;34m)\u001b[0m\u001b[0;34m+\u001b[0m\u001b[0;34m(\u001b[0m\u001b[0mlook_back\u001b[0m\u001b[0;34m*\u001b[0m\u001b[0;36m2\u001b[0m\u001b[0;34m)\u001b[0m\u001b[0;34m+\u001b[0m\u001b[0;36m1\u001b[0m\u001b[0;34m:\u001b[0m\u001b[0mlen\u001b[0m\u001b[0;34m(\u001b[0m\u001b[0mtata1\u001b[0m\u001b[0;34m)\u001b[0m\u001b[0;34m-\u001b[0m\u001b[0;36m1\u001b[0m\u001b[0;34m,\u001b[0m \u001b[0;34m:\u001b[0m\u001b[0;34m]\u001b[0m \u001b[0;34m=\u001b[0m \u001b[0mtest_predict\u001b[0m\u001b[0;34m\u001b[0m\u001b[0;34m\u001b[0m\u001b[0m\n\u001b[0m\u001b[1;32m     11\u001b[0m \u001b[0;31m# plot baseline and predictions\u001b[0m\u001b[0;34m\u001b[0m\u001b[0;34m\u001b[0m\u001b[0;34m\u001b[0m\u001b[0m\n\u001b[1;32m     12\u001b[0m \u001b[0mplt\u001b[0m\u001b[0;34m.\u001b[0m\u001b[0mplot\u001b[0m\u001b[0;34m(\u001b[0m\u001b[0mscaler\u001b[0m\u001b[0;34m.\u001b[0m\u001b[0minverse_transform\u001b[0m\u001b[0;34m(\u001b[0m\u001b[0mtata1\u001b[0m\u001b[0;34m)\u001b[0m\u001b[0;34m)\u001b[0m\u001b[0;34m\u001b[0m\u001b[0;34m\u001b[0m\u001b[0m\n",
            "\u001b[0;31mValueError\u001b[0m: could not broadcast input array from shape (829,1) into shape (2066,1)"
          ]
        }
      ]
    },
    {
      "cell_type": "code",
      "source": [
        "len(test_data)"
      ],
      "metadata": {
        "colab": {
          "base_uri": "https://localhost:8080/"
        },
        "id": "E_27gCDC_YEA",
        "outputId": "c03cb96e-f860-49de-8da1-4343b8aca5b8"
      },
      "execution_count": null,
      "outputs": [
        {
          "output_type": "execute_result",
          "data": {
            "text/plain": [
              "930"
            ]
          },
          "metadata": {},
          "execution_count": 39
        }
      ]
    },
    {
      "cell_type": "code",
      "source": [
        "x_input=test_data[830:].reshape(1,-1)\n",
        "x_input.shape"
      ],
      "metadata": {
        "colab": {
          "base_uri": "https://localhost:8080/"
        },
        "id": "B2_1r3hx_gBu",
        "outputId": "572f245a-1294-4c2f-b873-8fad6e7dca8c"
      },
      "execution_count": null,
      "outputs": [
        {
          "output_type": "execute_result",
          "data": {
            "text/plain": [
              "(1, 100)"
            ]
          },
          "metadata": {},
          "execution_count": 40
        }
      ]
    },
    {
      "cell_type": "code",
      "source": [
        "temp_input=list(x_input)\n",
        "temp_input=temp_input[0].tolist()\n"
      ],
      "metadata": {
        "id": "RMoyiDiC_n9U"
      },
      "execution_count": null,
      "outputs": []
    },
    {
      "cell_type": "code",
      "source": [
        "temp_input"
      ],
      "metadata": {
        "colab": {
          "base_uri": "https://localhost:8080/"
        },
        "id": "9NpT-Ku3_rlo",
        "outputId": "5f1f9506-b565-4478-fec7-87547add0a7a"
      },
      "execution_count": null,
      "outputs": [
        {
          "output_type": "execute_result",
          "data": {
            "text/plain": [
              "[0.7726603232804509,\n",
              " 0.6806054782332164,\n",
              " 0.7402862871488368,\n",
              " 0.7295887566479052,\n",
              " 0.7174837166326817,\n",
              " 0.6977777815960471,\n",
              " 0.6605241691434109,\n",
              " 0.6168895987051486,\n",
              " 0.6126668983401554,\n",
              " 0.63922298029186,\n",
              " 0.6649345565349895,\n",
              " 0.6622132378346004,\n",
              " 0.650108197819377,\n",
              " 0.6537678371046141,\n",
              " 0.6748813389295798,\n",
              " 0.691584453362967,\n",
              " 0.6806054782332164,\n",
              " 0.7038772376788149,\n",
              " 0.6953379647985165,\n",
              " 0.6904584457515336,\n",
              " 0.6883940030071735,\n",
              " 0.6895200678926463,\n",
              " 0.691396823610421,\n",
              " 0.695056462895658,\n",
              " 0.6914906384866939,\n",
              " 0.705378619343419,\n",
              " 0.7158884628177654,\n",
              " 0.7370957795190042,\n",
              " 0.7335299551100399,\n",
              " 0.7210495410416459,\n",
              " 0.7258352452123559,\n",
              " 0.7258352452123559,\n",
              " 0.7000298540929534,\n",
              " 0.6864233751390866,\n",
              " 0.691584453362967,\n",
              " 0.6749752110798921,\n",
              " 0.7042525544579464,\n",
              " 0.7183282223412569,\n",
              " 0.7010621041021529,\n",
              " 0.6753505278590234,\n",
              " 0.693648896107327,\n",
              " 0.6849219934744823,\n",
              " 0.6958071537279602,\n",
              " 0.6987161594549345,\n",
              " 0.6898015697955046,\n",
              " 0.672253892379503,\n",
              " 0.6775087854796566,\n",
              " 0.6441963714891552,\n",
              " 0.6355633410066229,\n",
              " 0.6126668983401554,\n",
              " 0.6059105663013585,\n",
              " 0.5761639767198214,\n",
              " 0.6362201596886127,\n",
              " 0.6381907875566996,\n",
              " 0.6734737721412487,\n",
              " 0.6565829706812761,\n",
              " 0.6256165013379932,\n",
              " 0.661931735931742,\n",
              " 0.6684065660676806,\n",
              " 0.6764765927444961,\n",
              " 0.6600549802139672,\n",
              " 0.6669051271290372,\n",
              " 0.6837021137127367,\n",
              " 0.7077245639906374,\n",
              " 0.7098828216112707,\n",
              " 0.7118534494793576,\n",
              " 0.7016251079078696,\n",
              " 0.6880186289540028,\n",
              " 0.6888631919366172,\n",
              " 0.6954318369488287,\n",
              " 0.695056462895658,\n",
              " 0.6816376709683766,\n",
              " 0.6807931079857624,\n",
              " 0.6407244192305034,\n",
              " 0.6378154135035289,\n",
              " 0.6546124000872284,\n",
              " 0.6149190281111009,\n",
              " 0.607412005240002,\n",
              " 0.5956822820039099,\n",
              " 0.6236459307439455,\n",
              " 0.6152005300139591,\n",
              " 0.6416627970893908,\n",
              " 0.6456039382774863,\n",
              " 0.6553630909195305,\n",
              " 0.6602426672405526,\n",
              " 0.6599611653376943,\n",
              " 0.6502958275719231,\n",
              " 0.6519849535371518,\n",
              " 0.6440087417366092,\n",
              " 0.6506712016250936,\n",
              " 0.6588351004522216,\n",
              " 0.6860480583599551,\n",
              " 0.7061293101757212,\n",
              " 0.6976839094457349,\n",
              " 0.6854849972801992,\n",
              " 0.6790102244182998,\n",
              " 0.6807931079857624,\n",
              " 0.7035957357759567,\n",
              " 0.7236769875917226,\n",
              " 0.7202049780590316]"
            ]
          },
          "metadata": {},
          "execution_count": 42
        }
      ]
    },
    {
      "cell_type": "code",
      "source": [
        "# demonstrate prediction for next 10 days\n",
        "from numpy import array\n",
        "\n",
        "lst_output=[]\n",
        "n_steps=100\n",
        "i=0\n",
        "while(i<30):\n",
        "    \n",
        "    if(len(temp_input)>100):\n",
        "        #print(temp_input)\n",
        "        x_input=np.array(temp_input[1:])\n",
        "        print(\"{} day input {}\".format(i,x_input))\n",
        "        x_input=x_input.reshape(1,-1)\n",
        "        x_input = x_input.reshape((1, n_steps, 1))\n",
        "        #print(x_input)\n",
        "        yhat = model.predict(x_input, verbose=0)\n",
        "        print(\"{} day output {}\".format(i,yhat))\n",
        "        temp_input.extend(yhat[0].tolist())\n",
        "        temp_input=temp_input[1:]\n",
        "        #print(temp_input)\n",
        "        lst_output.extend(yhat.tolist())\n",
        "        i=i+1\n",
        "    else:\n",
        "        x_input = x_input.reshape((1, n_steps,1))\n",
        "        yhat = model.predict(x_input, verbose=0)\n",
        "        print(yhat[0])\n",
        "        temp_input.extend(yhat[0].tolist())\n",
        "        print(len(temp_input))\n",
        "        lst_output.extend(yhat.tolist())\n",
        "        i=i+1\n",
        "    \n",
        "\n",
        "print(lst_output)"
      ],
      "metadata": {
        "colab": {
          "base_uri": "https://localhost:8080/"
        },
        "id": "CCq-nZqd_wcd",
        "outputId": "0e2030ce-988c-4595-c0b9-82af3c36ef2b"
      },
      "execution_count": null,
      "outputs": [
        {
          "output_type": "stream",
          "name": "stdout",
          "text": [
            "[0.7293501]\n",
            "101\n",
            "1 day input [0.68060548 0.74028629 0.72958876 0.71748372 0.69777778 0.66052417\n",
            " 0.6168896  0.6126669  0.63922298 0.66493456 0.66221324 0.6501082\n",
            " 0.65376784 0.67488134 0.69158445 0.68060548 0.70387724 0.69533796\n",
            " 0.69045845 0.688394   0.68952007 0.69139682 0.69505646 0.69149064\n",
            " 0.70537862 0.71588846 0.73709578 0.73352996 0.72104954 0.72583525\n",
            " 0.72583525 0.70002985 0.68642338 0.69158445 0.67497521 0.70425255\n",
            " 0.71832822 0.7010621  0.67535053 0.6936489  0.68492199 0.69580715\n",
            " 0.69871616 0.68980157 0.67225389 0.67750879 0.64419637 0.63556334\n",
            " 0.6126669  0.60591057 0.57616398 0.63622016 0.63819079 0.67347377\n",
            " 0.65658297 0.6256165  0.66193174 0.66840657 0.67647659 0.66005498\n",
            " 0.66690513 0.68370211 0.70772456 0.70988282 0.71185345 0.70162511\n",
            " 0.68801863 0.68886319 0.69543184 0.69505646 0.68163767 0.68079311\n",
            " 0.64072442 0.63781541 0.6546124  0.61491903 0.60741201 0.59568228\n",
            " 0.62364593 0.61520053 0.6416628  0.64560394 0.65536309 0.66024267\n",
            " 0.65996117 0.65029583 0.65198495 0.64400874 0.6506712  0.6588351\n",
            " 0.68604806 0.70612931 0.69768391 0.685485   0.67901022 0.68079311\n",
            " 0.70359574 0.72367699 0.72020498 0.72935009]\n",
            "1 day output [[0.7407225]]\n",
            "2 day input [0.74028629 0.72958876 0.71748372 0.69777778 0.66052417 0.6168896\n",
            " 0.6126669  0.63922298 0.66493456 0.66221324 0.6501082  0.65376784\n",
            " 0.67488134 0.69158445 0.68060548 0.70387724 0.69533796 0.69045845\n",
            " 0.688394   0.68952007 0.69139682 0.69505646 0.69149064 0.70537862\n",
            " 0.71588846 0.73709578 0.73352996 0.72104954 0.72583525 0.72583525\n",
            " 0.70002985 0.68642338 0.69158445 0.67497521 0.70425255 0.71832822\n",
            " 0.7010621  0.67535053 0.6936489  0.68492199 0.69580715 0.69871616\n",
            " 0.68980157 0.67225389 0.67750879 0.64419637 0.63556334 0.6126669\n",
            " 0.60591057 0.57616398 0.63622016 0.63819079 0.67347377 0.65658297\n",
            " 0.6256165  0.66193174 0.66840657 0.67647659 0.66005498 0.66690513\n",
            " 0.68370211 0.70772456 0.70988282 0.71185345 0.70162511 0.68801863\n",
            " 0.68886319 0.69543184 0.69505646 0.68163767 0.68079311 0.64072442\n",
            " 0.63781541 0.6546124  0.61491903 0.60741201 0.59568228 0.62364593\n",
            " 0.61520053 0.6416628  0.64560394 0.65536309 0.66024267 0.65996117\n",
            " 0.65029583 0.65198495 0.64400874 0.6506712  0.6588351  0.68604806\n",
            " 0.70612931 0.69768391 0.685485   0.67901022 0.68079311 0.70359574\n",
            " 0.72367699 0.72020498 0.72935009 0.74072248]\n",
            "2 day output [[0.7510844]]\n",
            "3 day input [0.72958876 0.71748372 0.69777778 0.66052417 0.6168896  0.6126669\n",
            " 0.63922298 0.66493456 0.66221324 0.6501082  0.65376784 0.67488134\n",
            " 0.69158445 0.68060548 0.70387724 0.69533796 0.69045845 0.688394\n",
            " 0.68952007 0.69139682 0.69505646 0.69149064 0.70537862 0.71588846\n",
            " 0.73709578 0.73352996 0.72104954 0.72583525 0.72583525 0.70002985\n",
            " 0.68642338 0.69158445 0.67497521 0.70425255 0.71832822 0.7010621\n",
            " 0.67535053 0.6936489  0.68492199 0.69580715 0.69871616 0.68980157\n",
            " 0.67225389 0.67750879 0.64419637 0.63556334 0.6126669  0.60591057\n",
            " 0.57616398 0.63622016 0.63819079 0.67347377 0.65658297 0.6256165\n",
            " 0.66193174 0.66840657 0.67647659 0.66005498 0.66690513 0.68370211\n",
            " 0.70772456 0.70988282 0.71185345 0.70162511 0.68801863 0.68886319\n",
            " 0.69543184 0.69505646 0.68163767 0.68079311 0.64072442 0.63781541\n",
            " 0.6546124  0.61491903 0.60741201 0.59568228 0.62364593 0.61520053\n",
            " 0.6416628  0.64560394 0.65536309 0.66024267 0.65996117 0.65029583\n",
            " 0.65198495 0.64400874 0.6506712  0.6588351  0.68604806 0.70612931\n",
            " 0.69768391 0.685485   0.67901022 0.68079311 0.70359574 0.72367699\n",
            " 0.72020498 0.72935009 0.74072248 0.75108439]\n",
            "3 day output [[0.7608178]]\n",
            "4 day input [0.71748372 0.69777778 0.66052417 0.6168896  0.6126669  0.63922298\n",
            " 0.66493456 0.66221324 0.6501082  0.65376784 0.67488134 0.69158445\n",
            " 0.68060548 0.70387724 0.69533796 0.69045845 0.688394   0.68952007\n",
            " 0.69139682 0.69505646 0.69149064 0.70537862 0.71588846 0.73709578\n",
            " 0.73352996 0.72104954 0.72583525 0.72583525 0.70002985 0.68642338\n",
            " 0.69158445 0.67497521 0.70425255 0.71832822 0.7010621  0.67535053\n",
            " 0.6936489  0.68492199 0.69580715 0.69871616 0.68980157 0.67225389\n",
            " 0.67750879 0.64419637 0.63556334 0.6126669  0.60591057 0.57616398\n",
            " 0.63622016 0.63819079 0.67347377 0.65658297 0.6256165  0.66193174\n",
            " 0.66840657 0.67647659 0.66005498 0.66690513 0.68370211 0.70772456\n",
            " 0.70988282 0.71185345 0.70162511 0.68801863 0.68886319 0.69543184\n",
            " 0.69505646 0.68163767 0.68079311 0.64072442 0.63781541 0.6546124\n",
            " 0.61491903 0.60741201 0.59568228 0.62364593 0.61520053 0.6416628\n",
            " 0.64560394 0.65536309 0.66024267 0.65996117 0.65029583 0.65198495\n",
            " 0.64400874 0.6506712  0.6588351  0.68604806 0.70612931 0.69768391\n",
            " 0.685485   0.67901022 0.68079311 0.70359574 0.72367699 0.72020498\n",
            " 0.72935009 0.74072248 0.75108439 0.76081783]\n",
            "4 day output [[0.7700702]]\n",
            "5 day input [0.69777778 0.66052417 0.6168896  0.6126669  0.63922298 0.66493456\n",
            " 0.66221324 0.6501082  0.65376784 0.67488134 0.69158445 0.68060548\n",
            " 0.70387724 0.69533796 0.69045845 0.688394   0.68952007 0.69139682\n",
            " 0.69505646 0.69149064 0.70537862 0.71588846 0.73709578 0.73352996\n",
            " 0.72104954 0.72583525 0.72583525 0.70002985 0.68642338 0.69158445\n",
            " 0.67497521 0.70425255 0.71832822 0.7010621  0.67535053 0.6936489\n",
            " 0.68492199 0.69580715 0.69871616 0.68980157 0.67225389 0.67750879\n",
            " 0.64419637 0.63556334 0.6126669  0.60591057 0.57616398 0.63622016\n",
            " 0.63819079 0.67347377 0.65658297 0.6256165  0.66193174 0.66840657\n",
            " 0.67647659 0.66005498 0.66690513 0.68370211 0.70772456 0.70988282\n",
            " 0.71185345 0.70162511 0.68801863 0.68886319 0.69543184 0.69505646\n",
            " 0.68163767 0.68079311 0.64072442 0.63781541 0.6546124  0.61491903\n",
            " 0.60741201 0.59568228 0.62364593 0.61520053 0.6416628  0.64560394\n",
            " 0.65536309 0.66024267 0.65996117 0.65029583 0.65198495 0.64400874\n",
            " 0.6506712  0.6588351  0.68604806 0.70612931 0.69768391 0.685485\n",
            " 0.67901022 0.68079311 0.70359574 0.72367699 0.72020498 0.72935009\n",
            " 0.74072248 0.75108439 0.76081783 0.7700702 ]\n",
            "5 day output [[0.77885675]]\n",
            "6 day input [0.66052417 0.6168896  0.6126669  0.63922298 0.66493456 0.66221324\n",
            " 0.6501082  0.65376784 0.67488134 0.69158445 0.68060548 0.70387724\n",
            " 0.69533796 0.69045845 0.688394   0.68952007 0.69139682 0.69505646\n",
            " 0.69149064 0.70537862 0.71588846 0.73709578 0.73352996 0.72104954\n",
            " 0.72583525 0.72583525 0.70002985 0.68642338 0.69158445 0.67497521\n",
            " 0.70425255 0.71832822 0.7010621  0.67535053 0.6936489  0.68492199\n",
            " 0.69580715 0.69871616 0.68980157 0.67225389 0.67750879 0.64419637\n",
            " 0.63556334 0.6126669  0.60591057 0.57616398 0.63622016 0.63819079\n",
            " 0.67347377 0.65658297 0.6256165  0.66193174 0.66840657 0.67647659\n",
            " 0.66005498 0.66690513 0.68370211 0.70772456 0.70988282 0.71185345\n",
            " 0.70162511 0.68801863 0.68886319 0.69543184 0.69505646 0.68163767\n",
            " 0.68079311 0.64072442 0.63781541 0.6546124  0.61491903 0.60741201\n",
            " 0.59568228 0.62364593 0.61520053 0.6416628  0.64560394 0.65536309\n",
            " 0.66024267 0.65996117 0.65029583 0.65198495 0.64400874 0.6506712\n",
            " 0.6588351  0.68604806 0.70612931 0.69768391 0.685485   0.67901022\n",
            " 0.68079311 0.70359574 0.72367699 0.72020498 0.72935009 0.74072248\n",
            " 0.75108439 0.76081783 0.7700702  0.77885675]\n",
            "6 day output [[0.78717285]]\n",
            "7 day input [0.6168896  0.6126669  0.63922298 0.66493456 0.66221324 0.6501082\n",
            " 0.65376784 0.67488134 0.69158445 0.68060548 0.70387724 0.69533796\n",
            " 0.69045845 0.688394   0.68952007 0.69139682 0.69505646 0.69149064\n",
            " 0.70537862 0.71588846 0.73709578 0.73352996 0.72104954 0.72583525\n",
            " 0.72583525 0.70002985 0.68642338 0.69158445 0.67497521 0.70425255\n",
            " 0.71832822 0.7010621  0.67535053 0.6936489  0.68492199 0.69580715\n",
            " 0.69871616 0.68980157 0.67225389 0.67750879 0.64419637 0.63556334\n",
            " 0.6126669  0.60591057 0.57616398 0.63622016 0.63819079 0.67347377\n",
            " 0.65658297 0.6256165  0.66193174 0.66840657 0.67647659 0.66005498\n",
            " 0.66690513 0.68370211 0.70772456 0.70988282 0.71185345 0.70162511\n",
            " 0.68801863 0.68886319 0.69543184 0.69505646 0.68163767 0.68079311\n",
            " 0.64072442 0.63781541 0.6546124  0.61491903 0.60741201 0.59568228\n",
            " 0.62364593 0.61520053 0.6416628  0.64560394 0.65536309 0.66024267\n",
            " 0.65996117 0.65029583 0.65198495 0.64400874 0.6506712  0.6588351\n",
            " 0.68604806 0.70612931 0.69768391 0.685485   0.67901022 0.68079311\n",
            " 0.70359574 0.72367699 0.72020498 0.72935009 0.74072248 0.75108439\n",
            " 0.76081783 0.7700702  0.77885675 0.78717285]\n",
            "7 day output [[0.7950417]]\n",
            "8 day input [0.6126669  0.63922298 0.66493456 0.66221324 0.6501082  0.65376784\n",
            " 0.67488134 0.69158445 0.68060548 0.70387724 0.69533796 0.69045845\n",
            " 0.688394   0.68952007 0.69139682 0.69505646 0.69149064 0.70537862\n",
            " 0.71588846 0.73709578 0.73352996 0.72104954 0.72583525 0.72583525\n",
            " 0.70002985 0.68642338 0.69158445 0.67497521 0.70425255 0.71832822\n",
            " 0.7010621  0.67535053 0.6936489  0.68492199 0.69580715 0.69871616\n",
            " 0.68980157 0.67225389 0.67750879 0.64419637 0.63556334 0.6126669\n",
            " 0.60591057 0.57616398 0.63622016 0.63819079 0.67347377 0.65658297\n",
            " 0.6256165  0.66193174 0.66840657 0.67647659 0.66005498 0.66690513\n",
            " 0.68370211 0.70772456 0.70988282 0.71185345 0.70162511 0.68801863\n",
            " 0.68886319 0.69543184 0.69505646 0.68163767 0.68079311 0.64072442\n",
            " 0.63781541 0.6546124  0.61491903 0.60741201 0.59568228 0.62364593\n",
            " 0.61520053 0.6416628  0.64560394 0.65536309 0.66024267 0.65996117\n",
            " 0.65029583 0.65198495 0.64400874 0.6506712  0.6588351  0.68604806\n",
            " 0.70612931 0.69768391 0.685485   0.67901022 0.68079311 0.70359574\n",
            " 0.72367699 0.72020498 0.72935009 0.74072248 0.75108439 0.76081783\n",
            " 0.7700702  0.77885675 0.78717285 0.79504168]\n",
            "8 day output [[0.80251694]]\n",
            "9 day input [0.63922298 0.66493456 0.66221324 0.6501082  0.65376784 0.67488134\n",
            " 0.69158445 0.68060548 0.70387724 0.69533796 0.69045845 0.688394\n",
            " 0.68952007 0.69139682 0.69505646 0.69149064 0.70537862 0.71588846\n",
            " 0.73709578 0.73352996 0.72104954 0.72583525 0.72583525 0.70002985\n",
            " 0.68642338 0.69158445 0.67497521 0.70425255 0.71832822 0.7010621\n",
            " 0.67535053 0.6936489  0.68492199 0.69580715 0.69871616 0.68980157\n",
            " 0.67225389 0.67750879 0.64419637 0.63556334 0.6126669  0.60591057\n",
            " 0.57616398 0.63622016 0.63819079 0.67347377 0.65658297 0.6256165\n",
            " 0.66193174 0.66840657 0.67647659 0.66005498 0.66690513 0.68370211\n",
            " 0.70772456 0.70988282 0.71185345 0.70162511 0.68801863 0.68886319\n",
            " 0.69543184 0.69505646 0.68163767 0.68079311 0.64072442 0.63781541\n",
            " 0.6546124  0.61491903 0.60741201 0.59568228 0.62364593 0.61520053\n",
            " 0.6416628  0.64560394 0.65536309 0.66024267 0.65996117 0.65029583\n",
            " 0.65198495 0.64400874 0.6506712  0.6588351  0.68604806 0.70612931\n",
            " 0.69768391 0.685485   0.67901022 0.68079311 0.70359574 0.72367699\n",
            " 0.72020498 0.72935009 0.74072248 0.75108439 0.76081783 0.7700702\n",
            " 0.77885675 0.78717285 0.79504168 0.80251694]\n",
            "9 day output [[0.8096658]]\n",
            "10 day input [0.66493456 0.66221324 0.6501082  0.65376784 0.67488134 0.69158445\n",
            " 0.68060548 0.70387724 0.69533796 0.69045845 0.688394   0.68952007\n",
            " 0.69139682 0.69505646 0.69149064 0.70537862 0.71588846 0.73709578\n",
            " 0.73352996 0.72104954 0.72583525 0.72583525 0.70002985 0.68642338\n",
            " 0.69158445 0.67497521 0.70425255 0.71832822 0.7010621  0.67535053\n",
            " 0.6936489  0.68492199 0.69580715 0.69871616 0.68980157 0.67225389\n",
            " 0.67750879 0.64419637 0.63556334 0.6126669  0.60591057 0.57616398\n",
            " 0.63622016 0.63819079 0.67347377 0.65658297 0.6256165  0.66193174\n",
            " 0.66840657 0.67647659 0.66005498 0.66690513 0.68370211 0.70772456\n",
            " 0.70988282 0.71185345 0.70162511 0.68801863 0.68886319 0.69543184\n",
            " 0.69505646 0.68163767 0.68079311 0.64072442 0.63781541 0.6546124\n",
            " 0.61491903 0.60741201 0.59568228 0.62364593 0.61520053 0.6416628\n",
            " 0.64560394 0.65536309 0.66024267 0.65996117 0.65029583 0.65198495\n",
            " 0.64400874 0.6506712  0.6588351  0.68604806 0.70612931 0.69768391\n",
            " 0.685485   0.67901022 0.68079311 0.70359574 0.72367699 0.72020498\n",
            " 0.72935009 0.74072248 0.75108439 0.76081783 0.7700702  0.77885675\n",
            " 0.78717285 0.79504168 0.80251694 0.8096658 ]\n",
            "10 day output [[0.81655633]]\n",
            "11 day input [0.66221324 0.6501082  0.65376784 0.67488134 0.69158445 0.68060548\n",
            " 0.70387724 0.69533796 0.69045845 0.688394   0.68952007 0.69139682\n",
            " 0.69505646 0.69149064 0.70537862 0.71588846 0.73709578 0.73352996\n",
            " 0.72104954 0.72583525 0.72583525 0.70002985 0.68642338 0.69158445\n",
            " 0.67497521 0.70425255 0.71832822 0.7010621  0.67535053 0.6936489\n",
            " 0.68492199 0.69580715 0.69871616 0.68980157 0.67225389 0.67750879\n",
            " 0.64419637 0.63556334 0.6126669  0.60591057 0.57616398 0.63622016\n",
            " 0.63819079 0.67347377 0.65658297 0.6256165  0.66193174 0.66840657\n",
            " 0.67647659 0.66005498 0.66690513 0.68370211 0.70772456 0.70988282\n",
            " 0.71185345 0.70162511 0.68801863 0.68886319 0.69543184 0.69505646\n",
            " 0.68163767 0.68079311 0.64072442 0.63781541 0.6546124  0.61491903\n",
            " 0.60741201 0.59568228 0.62364593 0.61520053 0.6416628  0.64560394\n",
            " 0.65536309 0.66024267 0.65996117 0.65029583 0.65198495 0.64400874\n",
            " 0.6506712  0.6588351  0.68604806 0.70612931 0.69768391 0.685485\n",
            " 0.67901022 0.68079311 0.70359574 0.72367699 0.72020498 0.72935009\n",
            " 0.74072248 0.75108439 0.76081783 0.7700702  0.77885675 0.78717285\n",
            " 0.79504168 0.80251694 0.8096658  0.81655633]\n",
            "11 day output [[0.8232456]]\n",
            "12 day input [0.6501082  0.65376784 0.67488134 0.69158445 0.68060548 0.70387724\n",
            " 0.69533796 0.69045845 0.688394   0.68952007 0.69139682 0.69505646\n",
            " 0.69149064 0.70537862 0.71588846 0.73709578 0.73352996 0.72104954\n",
            " 0.72583525 0.72583525 0.70002985 0.68642338 0.69158445 0.67497521\n",
            " 0.70425255 0.71832822 0.7010621  0.67535053 0.6936489  0.68492199\n",
            " 0.69580715 0.69871616 0.68980157 0.67225389 0.67750879 0.64419637\n",
            " 0.63556334 0.6126669  0.60591057 0.57616398 0.63622016 0.63819079\n",
            " 0.67347377 0.65658297 0.6256165  0.66193174 0.66840657 0.67647659\n",
            " 0.66005498 0.66690513 0.68370211 0.70772456 0.70988282 0.71185345\n",
            " 0.70162511 0.68801863 0.68886319 0.69543184 0.69505646 0.68163767\n",
            " 0.68079311 0.64072442 0.63781541 0.6546124  0.61491903 0.60741201\n",
            " 0.59568228 0.62364593 0.61520053 0.6416628  0.64560394 0.65536309\n",
            " 0.66024267 0.65996117 0.65029583 0.65198495 0.64400874 0.6506712\n",
            " 0.6588351  0.68604806 0.70612931 0.69768391 0.685485   0.67901022\n",
            " 0.68079311 0.70359574 0.72367699 0.72020498 0.72935009 0.74072248\n",
            " 0.75108439 0.76081783 0.7700702  0.77885675 0.78717285 0.79504168\n",
            " 0.80251694 0.8096658  0.81655633 0.82324558]\n",
            "12 day output [[0.8297731]]\n",
            "13 day input [0.65376784 0.67488134 0.69158445 0.68060548 0.70387724 0.69533796\n",
            " 0.69045845 0.688394   0.68952007 0.69139682 0.69505646 0.69149064\n",
            " 0.70537862 0.71588846 0.73709578 0.73352996 0.72104954 0.72583525\n",
            " 0.72583525 0.70002985 0.68642338 0.69158445 0.67497521 0.70425255\n",
            " 0.71832822 0.7010621  0.67535053 0.6936489  0.68492199 0.69580715\n",
            " 0.69871616 0.68980157 0.67225389 0.67750879 0.64419637 0.63556334\n",
            " 0.6126669  0.60591057 0.57616398 0.63622016 0.63819079 0.67347377\n",
            " 0.65658297 0.6256165  0.66193174 0.66840657 0.67647659 0.66005498\n",
            " 0.66690513 0.68370211 0.70772456 0.70988282 0.71185345 0.70162511\n",
            " 0.68801863 0.68886319 0.69543184 0.69505646 0.68163767 0.68079311\n",
            " 0.64072442 0.63781541 0.6546124  0.61491903 0.60741201 0.59568228\n",
            " 0.62364593 0.61520053 0.6416628  0.64560394 0.65536309 0.66024267\n",
            " 0.65996117 0.65029583 0.65198495 0.64400874 0.6506712  0.6588351\n",
            " 0.68604806 0.70612931 0.69768391 0.685485   0.67901022 0.68079311\n",
            " 0.70359574 0.72367699 0.72020498 0.72935009 0.74072248 0.75108439\n",
            " 0.76081783 0.7700702  0.77885675 0.78717285 0.79504168 0.80251694\n",
            " 0.8096658  0.81655633 0.82324558 0.82977313]\n",
            "13 day output [[0.83616054]]\n",
            "14 day input [0.67488134 0.69158445 0.68060548 0.70387724 0.69533796 0.69045845\n",
            " 0.688394   0.68952007 0.69139682 0.69505646 0.69149064 0.70537862\n",
            " 0.71588846 0.73709578 0.73352996 0.72104954 0.72583525 0.72583525\n",
            " 0.70002985 0.68642338 0.69158445 0.67497521 0.70425255 0.71832822\n",
            " 0.7010621  0.67535053 0.6936489  0.68492199 0.69580715 0.69871616\n",
            " 0.68980157 0.67225389 0.67750879 0.64419637 0.63556334 0.6126669\n",
            " 0.60591057 0.57616398 0.63622016 0.63819079 0.67347377 0.65658297\n",
            " 0.6256165  0.66193174 0.66840657 0.67647659 0.66005498 0.66690513\n",
            " 0.68370211 0.70772456 0.70988282 0.71185345 0.70162511 0.68801863\n",
            " 0.68886319 0.69543184 0.69505646 0.68163767 0.68079311 0.64072442\n",
            " 0.63781541 0.6546124  0.61491903 0.60741201 0.59568228 0.62364593\n",
            " 0.61520053 0.6416628  0.64560394 0.65536309 0.66024267 0.65996117\n",
            " 0.65029583 0.65198495 0.64400874 0.6506712  0.6588351  0.68604806\n",
            " 0.70612931 0.69768391 0.685485   0.67901022 0.68079311 0.70359574\n",
            " 0.72367699 0.72020498 0.72935009 0.74072248 0.75108439 0.76081783\n",
            " 0.7700702  0.77885675 0.78717285 0.79504168 0.80251694 0.8096658\n",
            " 0.81655633 0.82324558 0.82977313 0.83616054]\n",
            "14 day output [[0.84241074]]\n",
            "15 day input [0.69158445 0.68060548 0.70387724 0.69533796 0.69045845 0.688394\n",
            " 0.68952007 0.69139682 0.69505646 0.69149064 0.70537862 0.71588846\n",
            " 0.73709578 0.73352996 0.72104954 0.72583525 0.72583525 0.70002985\n",
            " 0.68642338 0.69158445 0.67497521 0.70425255 0.71832822 0.7010621\n",
            " 0.67535053 0.6936489  0.68492199 0.69580715 0.69871616 0.68980157\n",
            " 0.67225389 0.67750879 0.64419637 0.63556334 0.6126669  0.60591057\n",
            " 0.57616398 0.63622016 0.63819079 0.67347377 0.65658297 0.6256165\n",
            " 0.66193174 0.66840657 0.67647659 0.66005498 0.66690513 0.68370211\n",
            " 0.70772456 0.70988282 0.71185345 0.70162511 0.68801863 0.68886319\n",
            " 0.69543184 0.69505646 0.68163767 0.68079311 0.64072442 0.63781541\n",
            " 0.6546124  0.61491903 0.60741201 0.59568228 0.62364593 0.61520053\n",
            " 0.6416628  0.64560394 0.65536309 0.66024267 0.65996117 0.65029583\n",
            " 0.65198495 0.64400874 0.6506712  0.6588351  0.68604806 0.70612931\n",
            " 0.69768391 0.685485   0.67901022 0.68079311 0.70359574 0.72367699\n",
            " 0.72020498 0.72935009 0.74072248 0.75108439 0.76081783 0.7700702\n",
            " 0.77885675 0.78717285 0.79504168 0.80251694 0.8096658  0.81655633\n",
            " 0.82324558 0.82977313 0.83616054 0.84241074]\n",
            "15 day output [[0.84851426]]\n",
            "16 day input [0.68060548 0.70387724 0.69533796 0.69045845 0.688394   0.68952007\n",
            " 0.69139682 0.69505646 0.69149064 0.70537862 0.71588846 0.73709578\n",
            " 0.73352996 0.72104954 0.72583525 0.72583525 0.70002985 0.68642338\n",
            " 0.69158445 0.67497521 0.70425255 0.71832822 0.7010621  0.67535053\n",
            " 0.6936489  0.68492199 0.69580715 0.69871616 0.68980157 0.67225389\n",
            " 0.67750879 0.64419637 0.63556334 0.6126669  0.60591057 0.57616398\n",
            " 0.63622016 0.63819079 0.67347377 0.65658297 0.6256165  0.66193174\n",
            " 0.66840657 0.67647659 0.66005498 0.66690513 0.68370211 0.70772456\n",
            " 0.70988282 0.71185345 0.70162511 0.68801863 0.68886319 0.69543184\n",
            " 0.69505646 0.68163767 0.68079311 0.64072442 0.63781541 0.6546124\n",
            " 0.61491903 0.60741201 0.59568228 0.62364593 0.61520053 0.6416628\n",
            " 0.64560394 0.65536309 0.66024267 0.65996117 0.65029583 0.65198495\n",
            " 0.64400874 0.6506712  0.6588351  0.68604806 0.70612931 0.69768391\n",
            " 0.685485   0.67901022 0.68079311 0.70359574 0.72367699 0.72020498\n",
            " 0.72935009 0.74072248 0.75108439 0.76081783 0.7700702  0.77885675\n",
            " 0.78717285 0.79504168 0.80251694 0.8096658  0.81655633 0.82324558\n",
            " 0.82977313 0.83616054 0.84241074 0.84851426]\n",
            "16 day output [[0.85445136]]\n",
            "17 day input [0.70387724 0.69533796 0.69045845 0.688394   0.68952007 0.69139682\n",
            " 0.69505646 0.69149064 0.70537862 0.71588846 0.73709578 0.73352996\n",
            " 0.72104954 0.72583525 0.72583525 0.70002985 0.68642338 0.69158445\n",
            " 0.67497521 0.70425255 0.71832822 0.7010621  0.67535053 0.6936489\n",
            " 0.68492199 0.69580715 0.69871616 0.68980157 0.67225389 0.67750879\n",
            " 0.64419637 0.63556334 0.6126669  0.60591057 0.57616398 0.63622016\n",
            " 0.63819079 0.67347377 0.65658297 0.6256165  0.66193174 0.66840657\n",
            " 0.67647659 0.66005498 0.66690513 0.68370211 0.70772456 0.70988282\n",
            " 0.71185345 0.70162511 0.68801863 0.68886319 0.69543184 0.69505646\n",
            " 0.68163767 0.68079311 0.64072442 0.63781541 0.6546124  0.61491903\n",
            " 0.60741201 0.59568228 0.62364593 0.61520053 0.6416628  0.64560394\n",
            " 0.65536309 0.66024267 0.65996117 0.65029583 0.65198495 0.64400874\n",
            " 0.6506712  0.6588351  0.68604806 0.70612931 0.69768391 0.685485\n",
            " 0.67901022 0.68079311 0.70359574 0.72367699 0.72020498 0.72935009\n",
            " 0.74072248 0.75108439 0.76081783 0.7700702  0.77885675 0.78717285\n",
            " 0.79504168 0.80251694 0.8096658  0.81655633 0.82324558 0.82977313\n",
            " 0.83616054 0.84241074 0.84851426 0.85445136]\n",
            "17 day output [[0.8601986]]\n",
            "18 day input [0.69533796 0.69045845 0.688394   0.68952007 0.69139682 0.69505646\n",
            " 0.69149064 0.70537862 0.71588846 0.73709578 0.73352996 0.72104954\n",
            " 0.72583525 0.72583525 0.70002985 0.68642338 0.69158445 0.67497521\n",
            " 0.70425255 0.71832822 0.7010621  0.67535053 0.6936489  0.68492199\n",
            " 0.69580715 0.69871616 0.68980157 0.67225389 0.67750879 0.64419637\n",
            " 0.63556334 0.6126669  0.60591057 0.57616398 0.63622016 0.63819079\n",
            " 0.67347377 0.65658297 0.6256165  0.66193174 0.66840657 0.67647659\n",
            " 0.66005498 0.66690513 0.68370211 0.70772456 0.70988282 0.71185345\n",
            " 0.70162511 0.68801863 0.68886319 0.69543184 0.69505646 0.68163767\n",
            " 0.68079311 0.64072442 0.63781541 0.6546124  0.61491903 0.60741201\n",
            " 0.59568228 0.62364593 0.61520053 0.6416628  0.64560394 0.65536309\n",
            " 0.66024267 0.65996117 0.65029583 0.65198495 0.64400874 0.6506712\n",
            " 0.6588351  0.68604806 0.70612931 0.69768391 0.685485   0.67901022\n",
            " 0.68079311 0.70359574 0.72367699 0.72020498 0.72935009 0.74072248\n",
            " 0.75108439 0.76081783 0.7700702  0.77885675 0.78717285 0.79504168\n",
            " 0.80251694 0.8096658  0.81655633 0.82324558 0.82977313 0.83616054\n",
            " 0.84241074 0.84851426 0.85445136 0.86019862]\n",
            "18 day output [[0.86573225]]\n",
            "19 day input [0.69045845 0.688394   0.68952007 0.69139682 0.69505646 0.69149064\n",
            " 0.70537862 0.71588846 0.73709578 0.73352996 0.72104954 0.72583525\n",
            " 0.72583525 0.70002985 0.68642338 0.69158445 0.67497521 0.70425255\n",
            " 0.71832822 0.7010621  0.67535053 0.6936489  0.68492199 0.69580715\n",
            " 0.69871616 0.68980157 0.67225389 0.67750879 0.64419637 0.63556334\n",
            " 0.6126669  0.60591057 0.57616398 0.63622016 0.63819079 0.67347377\n",
            " 0.65658297 0.6256165  0.66193174 0.66840657 0.67647659 0.66005498\n",
            " 0.66690513 0.68370211 0.70772456 0.70988282 0.71185345 0.70162511\n",
            " 0.68801863 0.68886319 0.69543184 0.69505646 0.68163767 0.68079311\n",
            " 0.64072442 0.63781541 0.6546124  0.61491903 0.60741201 0.59568228\n",
            " 0.62364593 0.61520053 0.6416628  0.64560394 0.65536309 0.66024267\n",
            " 0.65996117 0.65029583 0.65198495 0.64400874 0.6506712  0.6588351\n",
            " 0.68604806 0.70612931 0.69768391 0.685485   0.67901022 0.68079311\n",
            " 0.70359574 0.72367699 0.72020498 0.72935009 0.74072248 0.75108439\n",
            " 0.76081783 0.7700702  0.77885675 0.78717285 0.79504168 0.80251694\n",
            " 0.8096658  0.81655633 0.82324558 0.82977313 0.83616054 0.84241074\n",
            " 0.84851426 0.85445136 0.86019862 0.86573225]\n",
            "19 day output [[0.8710327]]\n",
            "20 day input [0.688394   0.68952007 0.69139682 0.69505646 0.69149064 0.70537862\n",
            " 0.71588846 0.73709578 0.73352996 0.72104954 0.72583525 0.72583525\n",
            " 0.70002985 0.68642338 0.69158445 0.67497521 0.70425255 0.71832822\n",
            " 0.7010621  0.67535053 0.6936489  0.68492199 0.69580715 0.69871616\n",
            " 0.68980157 0.67225389 0.67750879 0.64419637 0.63556334 0.6126669\n",
            " 0.60591057 0.57616398 0.63622016 0.63819079 0.67347377 0.65658297\n",
            " 0.6256165  0.66193174 0.66840657 0.67647659 0.66005498 0.66690513\n",
            " 0.68370211 0.70772456 0.70988282 0.71185345 0.70162511 0.68801863\n",
            " 0.68886319 0.69543184 0.69505646 0.68163767 0.68079311 0.64072442\n",
            " 0.63781541 0.6546124  0.61491903 0.60741201 0.59568228 0.62364593\n",
            " 0.61520053 0.6416628  0.64560394 0.65536309 0.66024267 0.65996117\n",
            " 0.65029583 0.65198495 0.64400874 0.6506712  0.6588351  0.68604806\n",
            " 0.70612931 0.69768391 0.685485   0.67901022 0.68079311 0.70359574\n",
            " 0.72367699 0.72020498 0.72935009 0.74072248 0.75108439 0.76081783\n",
            " 0.7700702  0.77885675 0.78717285 0.79504168 0.80251694 0.8096658\n",
            " 0.81655633 0.82324558 0.82977313 0.83616054 0.84241074 0.84851426\n",
            " 0.85445136 0.86019862 0.86573225 0.87103271]\n",
            "20 day output [[0.8760857]]\n",
            "21 day input [0.68952007 0.69139682 0.69505646 0.69149064 0.70537862 0.71588846\n",
            " 0.73709578 0.73352996 0.72104954 0.72583525 0.72583525 0.70002985\n",
            " 0.68642338 0.69158445 0.67497521 0.70425255 0.71832822 0.7010621\n",
            " 0.67535053 0.6936489  0.68492199 0.69580715 0.69871616 0.68980157\n",
            " 0.67225389 0.67750879 0.64419637 0.63556334 0.6126669  0.60591057\n",
            " 0.57616398 0.63622016 0.63819079 0.67347377 0.65658297 0.6256165\n",
            " 0.66193174 0.66840657 0.67647659 0.66005498 0.66690513 0.68370211\n",
            " 0.70772456 0.70988282 0.71185345 0.70162511 0.68801863 0.68886319\n",
            " 0.69543184 0.69505646 0.68163767 0.68079311 0.64072442 0.63781541\n",
            " 0.6546124  0.61491903 0.60741201 0.59568228 0.62364593 0.61520053\n",
            " 0.6416628  0.64560394 0.65536309 0.66024267 0.65996117 0.65029583\n",
            " 0.65198495 0.64400874 0.6506712  0.6588351  0.68604806 0.70612931\n",
            " 0.69768391 0.685485   0.67901022 0.68079311 0.70359574 0.72367699\n",
            " 0.72020498 0.72935009 0.74072248 0.75108439 0.76081783 0.7700702\n",
            " 0.77885675 0.78717285 0.79504168 0.80251694 0.8096658  0.81655633\n",
            " 0.82324558 0.82977313 0.83616054 0.84241074 0.84851426 0.85445136\n",
            " 0.86019862 0.86573225 0.87103271 0.8760857 ]\n",
            "21 day output [[0.8808842]]\n",
            "22 day input [0.69139682 0.69505646 0.69149064 0.70537862 0.71588846 0.73709578\n",
            " 0.73352996 0.72104954 0.72583525 0.72583525 0.70002985 0.68642338\n",
            " 0.69158445 0.67497521 0.70425255 0.71832822 0.7010621  0.67535053\n",
            " 0.6936489  0.68492199 0.69580715 0.69871616 0.68980157 0.67225389\n",
            " 0.67750879 0.64419637 0.63556334 0.6126669  0.60591057 0.57616398\n",
            " 0.63622016 0.63819079 0.67347377 0.65658297 0.6256165  0.66193174\n",
            " 0.66840657 0.67647659 0.66005498 0.66690513 0.68370211 0.70772456\n",
            " 0.70988282 0.71185345 0.70162511 0.68801863 0.68886319 0.69543184\n",
            " 0.69505646 0.68163767 0.68079311 0.64072442 0.63781541 0.6546124\n",
            " 0.61491903 0.60741201 0.59568228 0.62364593 0.61520053 0.6416628\n",
            " 0.64560394 0.65536309 0.66024267 0.65996117 0.65029583 0.65198495\n",
            " 0.64400874 0.6506712  0.6588351  0.68604806 0.70612931 0.69768391\n",
            " 0.685485   0.67901022 0.68079311 0.70359574 0.72367699 0.72020498\n",
            " 0.72935009 0.74072248 0.75108439 0.76081783 0.7700702  0.77885675\n",
            " 0.78717285 0.79504168 0.80251694 0.8096658  0.81655633 0.82324558\n",
            " 0.82977313 0.83616054 0.84241074 0.84851426 0.85445136 0.86019862\n",
            " 0.86573225 0.87103271 0.8760857  0.88088417]\n",
            "22 day output [[0.885428]]\n",
            "23 day input [0.69505646 0.69149064 0.70537862 0.71588846 0.73709578 0.73352996\n",
            " 0.72104954 0.72583525 0.72583525 0.70002985 0.68642338 0.69158445\n",
            " 0.67497521 0.70425255 0.71832822 0.7010621  0.67535053 0.6936489\n",
            " 0.68492199 0.69580715 0.69871616 0.68980157 0.67225389 0.67750879\n",
            " 0.64419637 0.63556334 0.6126669  0.60591057 0.57616398 0.63622016\n",
            " 0.63819079 0.67347377 0.65658297 0.6256165  0.66193174 0.66840657\n",
            " 0.67647659 0.66005498 0.66690513 0.68370211 0.70772456 0.70988282\n",
            " 0.71185345 0.70162511 0.68801863 0.68886319 0.69543184 0.69505646\n",
            " 0.68163767 0.68079311 0.64072442 0.63781541 0.6546124  0.61491903\n",
            " 0.60741201 0.59568228 0.62364593 0.61520053 0.6416628  0.64560394\n",
            " 0.65536309 0.66024267 0.65996117 0.65029583 0.65198495 0.64400874\n",
            " 0.6506712  0.6588351  0.68604806 0.70612931 0.69768391 0.685485\n",
            " 0.67901022 0.68079311 0.70359574 0.72367699 0.72020498 0.72935009\n",
            " 0.74072248 0.75108439 0.76081783 0.7700702  0.77885675 0.78717285\n",
            " 0.79504168 0.80251694 0.8096658  0.81655633 0.82324558 0.82977313\n",
            " 0.83616054 0.84241074 0.84851426 0.85445136 0.86019862 0.86573225\n",
            " 0.87103271 0.8760857  0.88088417 0.88542801]\n",
            "23 day output [[0.88972235]]\n",
            "24 day input [0.69149064 0.70537862 0.71588846 0.73709578 0.73352996 0.72104954\n",
            " 0.72583525 0.72583525 0.70002985 0.68642338 0.69158445 0.67497521\n",
            " 0.70425255 0.71832822 0.7010621  0.67535053 0.6936489  0.68492199\n",
            " 0.69580715 0.69871616 0.68980157 0.67225389 0.67750879 0.64419637\n",
            " 0.63556334 0.6126669  0.60591057 0.57616398 0.63622016 0.63819079\n",
            " 0.67347377 0.65658297 0.6256165  0.66193174 0.66840657 0.67647659\n",
            " 0.66005498 0.66690513 0.68370211 0.70772456 0.70988282 0.71185345\n",
            " 0.70162511 0.68801863 0.68886319 0.69543184 0.69505646 0.68163767\n",
            " 0.68079311 0.64072442 0.63781541 0.6546124  0.61491903 0.60741201\n",
            " 0.59568228 0.62364593 0.61520053 0.6416628  0.64560394 0.65536309\n",
            " 0.66024267 0.65996117 0.65029583 0.65198495 0.64400874 0.6506712\n",
            " 0.6588351  0.68604806 0.70612931 0.69768391 0.685485   0.67901022\n",
            " 0.68079311 0.70359574 0.72367699 0.72020498 0.72935009 0.74072248\n",
            " 0.75108439 0.76081783 0.7700702  0.77885675 0.78717285 0.79504168\n",
            " 0.80251694 0.8096658  0.81655633 0.82324558 0.82977313 0.83616054\n",
            " 0.84241074 0.84851426 0.85445136 0.86019862 0.86573225 0.87103271\n",
            " 0.8760857  0.88088417 0.88542801 0.88972235]\n",
            "24 day output [[0.89377713]]\n",
            "25 day input [0.70537862 0.71588846 0.73709578 0.73352996 0.72104954 0.72583525\n",
            " 0.72583525 0.70002985 0.68642338 0.69158445 0.67497521 0.70425255\n",
            " 0.71832822 0.7010621  0.67535053 0.6936489  0.68492199 0.69580715\n",
            " 0.69871616 0.68980157 0.67225389 0.67750879 0.64419637 0.63556334\n",
            " 0.6126669  0.60591057 0.57616398 0.63622016 0.63819079 0.67347377\n",
            " 0.65658297 0.6256165  0.66193174 0.66840657 0.67647659 0.66005498\n",
            " 0.66690513 0.68370211 0.70772456 0.70988282 0.71185345 0.70162511\n",
            " 0.68801863 0.68886319 0.69543184 0.69505646 0.68163767 0.68079311\n",
            " 0.64072442 0.63781541 0.6546124  0.61491903 0.60741201 0.59568228\n",
            " 0.62364593 0.61520053 0.6416628  0.64560394 0.65536309 0.66024267\n",
            " 0.65996117 0.65029583 0.65198495 0.64400874 0.6506712  0.6588351\n",
            " 0.68604806 0.70612931 0.69768391 0.685485   0.67901022 0.68079311\n",
            " 0.70359574 0.72367699 0.72020498 0.72935009 0.74072248 0.75108439\n",
            " 0.76081783 0.7700702  0.77885675 0.78717285 0.79504168 0.80251694\n",
            " 0.8096658  0.81655633 0.82324558 0.82977313 0.83616054 0.84241074\n",
            " 0.84851426 0.85445136 0.86019862 0.86573225 0.87103271 0.8760857\n",
            " 0.88088417 0.88542801 0.88972235 0.89377713]\n",
            "25 day output [[0.89760476]]\n",
            "26 day input [0.71588846 0.73709578 0.73352996 0.72104954 0.72583525 0.72583525\n",
            " 0.70002985 0.68642338 0.69158445 0.67497521 0.70425255 0.71832822\n",
            " 0.7010621  0.67535053 0.6936489  0.68492199 0.69580715 0.69871616\n",
            " 0.68980157 0.67225389 0.67750879 0.64419637 0.63556334 0.6126669\n",
            " 0.60591057 0.57616398 0.63622016 0.63819079 0.67347377 0.65658297\n",
            " 0.6256165  0.66193174 0.66840657 0.67647659 0.66005498 0.66690513\n",
            " 0.68370211 0.70772456 0.70988282 0.71185345 0.70162511 0.68801863\n",
            " 0.68886319 0.69543184 0.69505646 0.68163767 0.68079311 0.64072442\n",
            " 0.63781541 0.6546124  0.61491903 0.60741201 0.59568228 0.62364593\n",
            " 0.61520053 0.6416628  0.64560394 0.65536309 0.66024267 0.65996117\n",
            " 0.65029583 0.65198495 0.64400874 0.6506712  0.6588351  0.68604806\n",
            " 0.70612931 0.69768391 0.685485   0.67901022 0.68079311 0.70359574\n",
            " 0.72367699 0.72020498 0.72935009 0.74072248 0.75108439 0.76081783\n",
            " 0.7700702  0.77885675 0.78717285 0.79504168 0.80251694 0.8096658\n",
            " 0.81655633 0.82324558 0.82977313 0.83616054 0.84241074 0.84851426\n",
            " 0.85445136 0.86019862 0.86573225 0.87103271 0.8760857  0.88088417\n",
            " 0.88542801 0.88972235 0.89377713 0.89760476]\n",
            "26 day output [[0.9012196]]\n",
            "27 day input [0.73709578 0.73352996 0.72104954 0.72583525 0.72583525 0.70002985\n",
            " 0.68642338 0.69158445 0.67497521 0.70425255 0.71832822 0.7010621\n",
            " 0.67535053 0.6936489  0.68492199 0.69580715 0.69871616 0.68980157\n",
            " 0.67225389 0.67750879 0.64419637 0.63556334 0.6126669  0.60591057\n",
            " 0.57616398 0.63622016 0.63819079 0.67347377 0.65658297 0.6256165\n",
            " 0.66193174 0.66840657 0.67647659 0.66005498 0.66690513 0.68370211\n",
            " 0.70772456 0.70988282 0.71185345 0.70162511 0.68801863 0.68886319\n",
            " 0.69543184 0.69505646 0.68163767 0.68079311 0.64072442 0.63781541\n",
            " 0.6546124  0.61491903 0.60741201 0.59568228 0.62364593 0.61520053\n",
            " 0.6416628  0.64560394 0.65536309 0.66024267 0.65996117 0.65029583\n",
            " 0.65198495 0.64400874 0.6506712  0.6588351  0.68604806 0.70612931\n",
            " 0.69768391 0.685485   0.67901022 0.68079311 0.70359574 0.72367699\n",
            " 0.72020498 0.72935009 0.74072248 0.75108439 0.76081783 0.7700702\n",
            " 0.77885675 0.78717285 0.79504168 0.80251694 0.8096658  0.81655633\n",
            " 0.82324558 0.82977313 0.83616054 0.84241074 0.84851426 0.85445136\n",
            " 0.86019862 0.86573225 0.87103271 0.8760857  0.88088417 0.88542801\n",
            " 0.88972235 0.89377713 0.89760476 0.90121961]\n",
            "27 day output [[0.90463495]]\n",
            "28 day input [0.73352996 0.72104954 0.72583525 0.72583525 0.70002985 0.68642338\n",
            " 0.69158445 0.67497521 0.70425255 0.71832822 0.7010621  0.67535053\n",
            " 0.6936489  0.68492199 0.69580715 0.69871616 0.68980157 0.67225389\n",
            " 0.67750879 0.64419637 0.63556334 0.6126669  0.60591057 0.57616398\n",
            " 0.63622016 0.63819079 0.67347377 0.65658297 0.6256165  0.66193174\n",
            " 0.66840657 0.67647659 0.66005498 0.66690513 0.68370211 0.70772456\n",
            " 0.70988282 0.71185345 0.70162511 0.68801863 0.68886319 0.69543184\n",
            " 0.69505646 0.68163767 0.68079311 0.64072442 0.63781541 0.6546124\n",
            " 0.61491903 0.60741201 0.59568228 0.62364593 0.61520053 0.6416628\n",
            " 0.64560394 0.65536309 0.66024267 0.65996117 0.65029583 0.65198495\n",
            " 0.64400874 0.6506712  0.6588351  0.68604806 0.70612931 0.69768391\n",
            " 0.685485   0.67901022 0.68079311 0.70359574 0.72367699 0.72020498\n",
            " 0.72935009 0.74072248 0.75108439 0.76081783 0.7700702  0.77885675\n",
            " 0.78717285 0.79504168 0.80251694 0.8096658  0.81655633 0.82324558\n",
            " 0.82977313 0.83616054 0.84241074 0.84851426 0.85445136 0.86019862\n",
            " 0.86573225 0.87103271 0.8760857  0.88088417 0.88542801 0.88972235\n",
            " 0.89377713 0.89760476 0.90121961 0.90463495]\n",
            "28 day output [[0.9078641]]\n",
            "29 day input [0.72104954 0.72583525 0.72583525 0.70002985 0.68642338 0.69158445\n",
            " 0.67497521 0.70425255 0.71832822 0.7010621  0.67535053 0.6936489\n",
            " 0.68492199 0.69580715 0.69871616 0.68980157 0.67225389 0.67750879\n",
            " 0.64419637 0.63556334 0.6126669  0.60591057 0.57616398 0.63622016\n",
            " 0.63819079 0.67347377 0.65658297 0.6256165  0.66193174 0.66840657\n",
            " 0.67647659 0.66005498 0.66690513 0.68370211 0.70772456 0.70988282\n",
            " 0.71185345 0.70162511 0.68801863 0.68886319 0.69543184 0.69505646\n",
            " 0.68163767 0.68079311 0.64072442 0.63781541 0.6546124  0.61491903\n",
            " 0.60741201 0.59568228 0.62364593 0.61520053 0.6416628  0.64560394\n",
            " 0.65536309 0.66024267 0.65996117 0.65029583 0.65198495 0.64400874\n",
            " 0.6506712  0.6588351  0.68604806 0.70612931 0.69768391 0.685485\n",
            " 0.67901022 0.68079311 0.70359574 0.72367699 0.72020498 0.72935009\n",
            " 0.74072248 0.75108439 0.76081783 0.7700702  0.77885675 0.78717285\n",
            " 0.79504168 0.80251694 0.8096658  0.81655633 0.82324558 0.82977313\n",
            " 0.83616054 0.84241074 0.84851426 0.85445136 0.86019862 0.86573225\n",
            " 0.87103271 0.8760857  0.88088417 0.88542801 0.88972235 0.89377713\n",
            " 0.89760476 0.90121961 0.90463495 0.90786409]\n",
            "29 day output [[0.9109181]]\n",
            "[[0.7293500900268555], [0.7407224774360657], [0.7510843873023987], [0.76081782579422], [0.7700701951980591], [0.7788567543029785], [0.7871728539466858], [0.7950416803359985], [0.8025169372558594], [0.8096657991409302], [0.8165563344955444], [0.8232455849647522], [0.8297731280326843], [0.8361605405807495], [0.8424107432365417], [0.8485142588615417], [0.8544513583183289], [0.8601986169815063], [0.8657322525978088], [0.87103271484375], [0.8760856986045837], [0.8808841705322266], [0.8854280114173889], [0.8897223472595215], [0.8937771320343018], [0.897604763507843], [0.9012196063995361], [0.904634952545166], [0.9078640937805176], [0.910918116569519]]\n"
          ]
        }
      ]
    },
    {
      "cell_type": "code",
      "source": [
        "day_new=np.arange(1,101)\n",
        "day_pred=np.arange(101,131)"
      ],
      "metadata": {
        "id": "DPFyhCd2_3vl"
      },
      "execution_count": null,
      "outputs": []
    },
    {
      "cell_type": "code",
      "source": [
        "import matplotlib.pyplot as plt"
      ],
      "metadata": {
        "id": "ld4YeyLj_82F"
      },
      "execution_count": null,
      "outputs": []
    },
    {
      "cell_type": "code",
      "source": [
        "len(tata1)"
      ],
      "metadata": {
        "colab": {
          "base_uri": "https://localhost:8080/"
        },
        "id": "8jOWp8Ol__MX",
        "outputId": "6d4995fb-a83d-4029-db14-3f7d8c82fd6e"
      },
      "execution_count": null,
      "outputs": [
        {
          "output_type": "execute_result",
          "data": {
            "text/plain": [
              "3097"
            ]
          },
          "metadata": {},
          "execution_count": 47
        }
      ]
    },
    {
      "cell_type": "code",
      "source": [
        "plt.plot(day_new,scaler.inverse_transform(tata1[2997:]))\n",
        "plt.plot(day_pred,scaler.inverse_transform(lst_output))"
      ],
      "metadata": {
        "colab": {
          "base_uri": "https://localhost:8080/",
          "height": 282
        },
        "id": "kyrUvTUQAIdU",
        "outputId": "855b1166-6a02-4ce4-e6a1-6bb8a2064690"
      },
      "execution_count": null,
      "outputs": [
        {
          "output_type": "execute_result",
          "data": {
            "text/plain": [
              "[<matplotlib.lines.Line2D at 0x7f7462ce9b50>]"
            ]
          },
          "metadata": {},
          "execution_count": 52
        },
        {
          "output_type": "display_data",
          "data": {
            "text/plain": [
              "<Figure size 432x288 with 1 Axes>"
            ],
            "image/png": "[encoded data removed]"
          },
          "metadata": {
            "needs_background": "light"
          }
        }
      ]
    },
    {
      "cell_type": "code",
      "source": [
        "df3=tata1.tolist()\n",
        "df3.extend(lst_output)\n",
        "plt.plot(df3[900:])"
      ],
      "metadata": {
        "colab": {
          "base_uri": "https://localhost:8080/",
          "height": 282
        },
        "id": "FZNtwmPSAr3m",
        "outputId": "8cf3baed-a22c-48e9-88a7-4dcf88542dea"
      },
      "execution_count": null,
      "outputs": [
        {
          "output_type": "execute_result",
          "data": {
            "text/plain": [
              "[<matplotlib.lines.Line2D at 0x7f7464b76f90>]"
            ]
          },
          "metadata": {},
          "execution_count": 54
        },
        {
          "output_type": "display_data",
          "data": {
            "text/plain": [
              "<Figure size 432x288 with 1 Axes>"
            ],
            "image/png": "[encoded data removed]"
          },
          "metadata": {
            "needs_background": "light"
          }
        }
      ]
    },
    {
      "cell_type": "code",
      "source": [
        "df3=scaler.inverse_transform(df3).tolist()"
      ],
      "metadata": {
        "id": "yGkImhDEA3g8"
      },
      "execution_count": null,
      "outputs": []
    },
    {
      "cell_type": "code",
      "source": [
        "plt.plot(df3)"
      ],
      "metadata": {
        "colab": {
          "base_uri": "https://localhost:8080/",
          "height": 282
        },
        "id": "q-s07i9sA5Q6",
        "outputId": "f2be6523-2ad8-4f28-c7d7-c38efe9995c1"
      },
      "execution_count": null,
      "outputs": [
        {
          "output_type": "execute_result",
          "data": {
            "text/plain": [
              "[<matplotlib.lines.Line2D at 0x7f7464c25ad0>]"
            ]
          },
          "metadata": {},
          "execution_count": 56
        },
        {
          "output_type": "display_data",
          "data": {
            "text/plain": [
              "<Figure size 432x288 with 1 Axes>"
            ],
            "image/png": "[encoded data removed]"
          },
          "metadata": {
            "needs_background": "light"
          }
        }
      ]
    }
  ]
}